{
 "cells": [
  {
   "cell_type": "markdown",
   "id": "ad289aad",
   "metadata": {},
   "source": [
    "### Topic Modelling:"
   ]
  },
  {
   "cell_type": "markdown",
   "id": "19b1e2ba",
   "metadata": {},
   "source": [
    "Are you really wondering what is and where Topic extraction are being used? Before getting answer to above question, lets yourself response to following questions.  \n",
    "\n",
    "*   what Indian people talking about their goverment over twitter for last decade?\n",
    "\n",
    "*  How different news channels potrait news about covid for last two years?\n",
    "\n",
    "\n",
    "*   Whats are the discussions carried out in Last three years NIPS Conference? \n",
    "\n",
    "\n",
    "  To perform these tasks, we can manually gothrough some popular twitter tweets, read popular news channel articles one by one to know about how they capture during pandemic period or read the post confrence NIPS scripts. \n",
    "  This the way we able to extract, what's all talk about.\n",
    "  But do you think this is the efficient step to do. Its consumes heavy period and may not produce results as we expected.\n",
    "\n",
    "  Then, How could we do this task? "
   ]
  },
  {
   "cell_type": "markdown",
   "id": "d61d3aa5",
   "metadata": {},
   "source": [
    "\n",
    "  \n",
    "  Lets have a drill..!\n",
    "   \n",
    "   “There’s a huge status quo bias, and it’s killing people,” says Alex Tabarrok, an economist at George Mason University in Fairfax, Virginia. “Had we done this starting in January, we could have vaccinated tens, perhaps hundreds, of millions more people.”\n",
    "\n",
    "   The above lines talks about pepole vaccination in virginia. we humans without gothrough the entire sentence we can come up this is about this. Our brain just captures the keywords and grabs the subject. Here the key words are \n",
    "\n",
    "   “There’s a huge status quo bias, and it’s killing people,” says Alex Tabarrok, an economist at George Mason University in Fairfax, **Virginia**. “Had we done this starting in January, we could have **vaccinated** tens, perhaps hundreds, of millions more **people**.” \n",
    " \n",
    " \n",
    "  The same task, we asking machines to carry out. This process of extracting theme or subject from the huge documents is known as **\"Topic modelling or Topic Extracting\"**\n",
    "\n",
    "\n",
    "  Then, How machine could understand the importance of words in a sentence?\n",
    "   Yes, machines not do well with texts documents. We have to pretreat our input as machine can understood. **This project is all about what are the preprocessing steps, how to implement differnent tools to acheive what we care about.**\n"
   ]
  },
  {
   "cell_type": "code",
   "execution_count": 1,
   "id": "63bed54c",
   "metadata": {},
   "outputs": [],
   "source": [
    "# for framework\n",
    "import pandas as pd\n",
    "# for linear algeberic operations\n",
    "import numpy as np\n",
    "\n",
    "# for visualization\n",
    "import seaborn as sns\n",
    "import matplotlib.pyplot as plt\n",
    "\n",
    "import warnings\n",
    "warnings.filterwarnings(\"ignore\")"
   ]
  },
  {
   "cell_type": "code",
   "execution_count": 2,
   "id": "36f2eeb9",
   "metadata": {},
   "outputs": [],
   "source": [
    "# locate directories\n",
    "import glob\n",
    "import os"
   ]
  },
  {
   "cell_type": "markdown",
   "id": "84c67ca7",
   "metadata": {},
   "source": [
    "**Raw Data:**\n",
    "\n",
    "Source data contains multiple csv files, each article stored individually. And article we got from British Broadcasting Company(BBC) where each article is labeled under Five categories.\n",
    "\n",
    "*   Business\n",
    "*   Entertainment\n",
    "\n",
    "*   Politics\n",
    "*   Sports\n",
    "\n",
    "*   Technology\n",
    " \n",
    "We extracting multiple files one by one and aggregates in dataframe for better exploration."
   ]
  },
  {
   "cell_type": "code",
   "execution_count": 3,
   "id": "438aaff6",
   "metadata": {},
   "outputs": [],
   "source": [
    "# Base directory\n",
    "base_dir = \"articles\"\n",
    "\n",
    "# retreiving business article paths recursively from base directories\n",
    "business_file_list = glob.glob(os.path.join(os.getcwd(), base_dir, \"Business\", \"*.txt\"))\n",
    "\n",
    "# retreiving entertainment article paths recursively from base directories\n",
    "entertainment_file_list = glob.glob(os.path.join(os.getcwd(), base_dir, \"entertainment\", \"*.txt\"))\n",
    "\n",
    "# retreiving politics article paths recursively from base directories\n",
    "politics_file_list = glob.glob(os.path.join(os.getcwd(), base_dir, \"politics\", \"*.txt\"))\n",
    "\n",
    "# retreiving sport article paths recursively from base directories\n",
    "sport_file_list = glob.glob(os.path.join(os.getcwd(), base_dir, \"sport\", \"*.txt\"))\n",
    "\n",
    "# retreiving technology article paths recursively from  base directories\n",
    "tech_file_list = glob.glob(os.path.join(os.getcwd(), base_dir, \"tech\", \"*.txt\"))"
   ]
  },
  {
   "cell_type": "markdown",
   "id": "0b7c148e",
   "metadata": {},
   "source": [
    "Next, we have to handle the files. We are using open function along with read mode over each directories and stored in list object. Dataframe created from the stored list."
   ]
  },
  {
   "cell_type": "code",
   "execution_count": 4,
   "id": "1dc834d5",
   "metadata": {},
   "outputs": [],
   "source": [
    "# To store labels\n",
    "labels = []\n",
    "\n",
    "# to store article\n",
    "corpus = []\n",
    "\n",
    "# open and read file\n",
    "for file_list in [\n",
    "    business_file_list, entertainment_file_list, politics_file_list, sport_file_list, tech_file_list\n",
    "]:\n",
    "    for file_path in file_list:\n",
    "        with open(file_path, encoding=\"utf8\", errors='ignore') as f_input:\n",
    "            corpus.append((f_input.read()))\n",
    "            labels.append(file_path.split('\\\\')[5])"
   ]
  },
  {
   "cell_type": "code",
   "execution_count": 5,
   "id": "1026b556",
   "metadata": {},
   "outputs": [],
   "source": [
    "# convert to dataframe\n",
    "df = pd.DataFrame({'col':corpus,'Topics':labels})"
   ]
  },
  {
   "cell_type": "code",
   "execution_count": 6,
   "id": "44f1ffab",
   "metadata": {},
   "outputs": [
    {
     "data": {
      "text/html": [
       "<div>\n",
       "<style scoped>\n",
       "    .dataframe tbody tr th:only-of-type {\n",
       "        vertical-align: middle;\n",
       "    }\n",
       "\n",
       "    .dataframe tbody tr th {\n",
       "        vertical-align: top;\n",
       "    }\n",
       "\n",
       "    .dataframe thead th {\n",
       "        text-align: right;\n",
       "    }\n",
       "</style>\n",
       "<table border=\"1\" class=\"dataframe\">\n",
       "  <thead>\n",
       "    <tr style=\"text-align: right;\">\n",
       "      <th></th>\n",
       "      <th>col</th>\n",
       "      <th>Topics</th>\n",
       "    </tr>\n",
       "  </thead>\n",
       "  <tbody>\n",
       "    <tr>\n",
       "      <th>0</th>\n",
       "      <td>Ad sales boost Time Warner profit\\n\\nQuarterly...</td>\n",
       "      <td>Business</td>\n",
       "    </tr>\n",
       "    <tr>\n",
       "      <th>1</th>\n",
       "      <td>Dollar gains on Greenspan speech\\n\\nThe dollar...</td>\n",
       "      <td>Business</td>\n",
       "    </tr>\n",
       "    <tr>\n",
       "      <th>2</th>\n",
       "      <td>High fuel prices hit BA's profits\\n\\nBritish A...</td>\n",
       "      <td>Business</td>\n",
       "    </tr>\n",
       "    <tr>\n",
       "      <th>3</th>\n",
       "      <td>Pernod takeover talk lifts Domecq\\n\\nShares in...</td>\n",
       "      <td>Business</td>\n",
       "    </tr>\n",
       "    <tr>\n",
       "      <th>4</th>\n",
       "      <td>Japan narrowly escapes recession\\n\\nJapan's ec...</td>\n",
       "      <td>Business</td>\n",
       "    </tr>\n",
       "  </tbody>\n",
       "</table>\n",
       "</div>"
      ],
      "text/plain": [
       "                                                 col    Topics\n",
       "0  Ad sales boost Time Warner profit\\n\\nQuarterly...  Business\n",
       "1  Dollar gains on Greenspan speech\\n\\nThe dollar...  Business\n",
       "2  High fuel prices hit BA's profits\\n\\nBritish A...  Business\n",
       "3  Pernod takeover talk lifts Domecq\\n\\nShares in...  Business\n",
       "4  Japan narrowly escapes recession\\n\\nJapan's ec...  Business"
      ]
     },
     "execution_count": 6,
     "metadata": {},
     "output_type": "execute_result"
    }
   ],
   "source": [
    "df.head()"
   ]
  },
  {
   "cell_type": "code",
   "execution_count": 16,
   "id": "a3d8660b",
   "metadata": {},
   "outputs": [],
   "source": [
    "# renaming column name\n",
    "df.rename(columns={'col':'article_content'},inplace=True)"
   ]
  },
  {
   "cell_type": "code",
   "execution_count": 17,
   "id": "8568f446",
   "metadata": {},
   "outputs": [
    {
     "data": {
      "text/html": [
       "<div>\n",
       "<style scoped>\n",
       "    .dataframe tbody tr th:only-of-type {\n",
       "        vertical-align: middle;\n",
       "    }\n",
       "\n",
       "    .dataframe tbody tr th {\n",
       "        vertical-align: top;\n",
       "    }\n",
       "\n",
       "    .dataframe thead th {\n",
       "        text-align: right;\n",
       "    }\n",
       "</style>\n",
       "<table border=\"1\" class=\"dataframe\">\n",
       "  <thead>\n",
       "    <tr style=\"text-align: right;\">\n",
       "      <th></th>\n",
       "      <th>article_content</th>\n",
       "    </tr>\n",
       "    <tr>\n",
       "      <th>Topics</th>\n",
       "      <th></th>\n",
       "    </tr>\n",
       "  </thead>\n",
       "  <tbody>\n",
       "    <tr>\n",
       "      <th>Business</th>\n",
       "      <td>509</td>\n",
       "    </tr>\n",
       "    <tr>\n",
       "      <th>entertainment</th>\n",
       "      <td>385</td>\n",
       "    </tr>\n",
       "    <tr>\n",
       "      <th>politics</th>\n",
       "      <td>416</td>\n",
       "    </tr>\n",
       "    <tr>\n",
       "      <th>sport</th>\n",
       "      <td>510</td>\n",
       "    </tr>\n",
       "    <tr>\n",
       "      <th>tech</th>\n",
       "      <td>400</td>\n",
       "    </tr>\n",
       "  </tbody>\n",
       "</table>\n",
       "</div>"
      ],
      "text/plain": [
       "               article_content\n",
       "Topics                        \n",
       "Business                   509\n",
       "entertainment              385\n",
       "politics                   416\n",
       "sport                      510\n",
       "tech                       400"
      ]
     },
     "execution_count": 17,
     "metadata": {},
     "output_type": "execute_result"
    }
   ],
   "source": [
    "# group the articles by its labels \n",
    "categories = df.groupby('Topics').agg({'article_content':'count'}) \n",
    "categories.head()"
   ]
  },
  {
   "cell_type": "code",
   "execution_count": 18,
   "id": "7f5c11e4",
   "metadata": {},
   "outputs": [],
   "source": [
    "from nltk.tokenize import RegexpTokenizer"
   ]
  },
  {
   "cell_type": "code",
   "execution_count": 19,
   "id": "9e237f3f",
   "metadata": {},
   "outputs": [],
   "source": [
    "def length(sub):\n",
    "\n",
    "  ''''\n",
    "  function returns number of words \n",
    "  '''\n",
    "  # split the documents with defined delimiter\n",
    "  tokenizer = RegexpTokenizer(\"\\w+|\\$[\\d\\.]+|\\S+|\\,'+|\\'+|\\-\")\n",
    "  \n",
    "  # count the words\n",
    "  length_ = len(tokenizer.tokenize(sub))\n",
    "\n",
    "\n",
    "  return length_"
   ]
  },
  {
   "cell_type": "code",
   "execution_count": 20,
   "id": "934bf19b",
   "metadata": {},
   "outputs": [
    {
     "data": {
      "text/html": [
       "<div>\n",
       "<style scoped>\n",
       "    .dataframe tbody tr th:only-of-type {\n",
       "        vertical-align: middle;\n",
       "    }\n",
       "\n",
       "    .dataframe tbody tr th {\n",
       "        vertical-align: top;\n",
       "    }\n",
       "\n",
       "    .dataframe thead th {\n",
       "        text-align: right;\n",
       "    }\n",
       "</style>\n",
       "<table border=\"1\" class=\"dataframe\">\n",
       "  <thead>\n",
       "    <tr style=\"text-align: right;\">\n",
       "      <th></th>\n",
       "      <th>length_article</th>\n",
       "    </tr>\n",
       "  </thead>\n",
       "  <tbody>\n",
       "    <tr>\n",
       "      <th>count</th>\n",
       "      <td>2220.000000</td>\n",
       "    </tr>\n",
       "    <tr>\n",
       "      <th>mean</th>\n",
       "      <td>430.227027</td>\n",
       "    </tr>\n",
       "    <tr>\n",
       "      <th>std</th>\n",
       "      <td>266.158613</td>\n",
       "    </tr>\n",
       "    <tr>\n",
       "      <th>min</th>\n",
       "      <td>96.000000</td>\n",
       "    </tr>\n",
       "    <tr>\n",
       "      <th>25%</th>\n",
       "      <td>275.000000</td>\n",
       "    </tr>\n",
       "    <tr>\n",
       "      <th>50%</th>\n",
       "      <td>371.000000</td>\n",
       "    </tr>\n",
       "    <tr>\n",
       "      <th>75%</th>\n",
       "      <td>526.250000</td>\n",
       "    </tr>\n",
       "    <tr>\n",
       "      <th>max</th>\n",
       "      <td>4946.000000</td>\n",
       "    </tr>\n",
       "  </tbody>\n",
       "</table>\n",
       "</div>"
      ],
      "text/plain": [
       "       length_article\n",
       "count     2220.000000\n",
       "mean       430.227027\n",
       "std        266.158613\n",
       "min         96.000000\n",
       "25%        275.000000\n",
       "50%        371.000000\n",
       "75%        526.250000\n",
       "max       4946.000000"
      ]
     },
     "execution_count": 20,
     "metadata": {},
     "output_type": "execute_result"
    }
   ],
   "source": [
    "# added new column contains length of article\n",
    "df['length_article'] = df['article_content'].apply(length)\n",
    "df.describe()"
   ]
  },
  {
   "cell_type": "code",
   "execution_count": 21,
   "id": "853e4a65",
   "metadata": {},
   "outputs": [],
   "source": [
    "corpus_df = df.copy(deep=True)"
   ]
  },
  {
   "cell_type": "code",
   "execution_count": 22,
   "id": "bf9bb2ad",
   "metadata": {},
   "outputs": [
    {
     "data": {
      "text/html": [
       "<div>\n",
       "<style scoped>\n",
       "    .dataframe tbody tr th:only-of-type {\n",
       "        vertical-align: middle;\n",
       "    }\n",
       "\n",
       "    .dataframe tbody tr th {\n",
       "        vertical-align: top;\n",
       "    }\n",
       "\n",
       "    .dataframe thead th {\n",
       "        text-align: right;\n",
       "    }\n",
       "</style>\n",
       "<table border=\"1\" class=\"dataframe\">\n",
       "  <thead>\n",
       "    <tr style=\"text-align: right;\">\n",
       "      <th></th>\n",
       "      <th>article_content</th>\n",
       "      <th>Topics</th>\n",
       "      <th>length_article</th>\n",
       "    </tr>\n",
       "  </thead>\n",
       "  <tbody>\n",
       "    <tr>\n",
       "      <th>0</th>\n",
       "      <td>Ad sales boost Time Warner profit\\n\\nQuarterly...</td>\n",
       "      <td>Business</td>\n",
       "      <td>489</td>\n",
       "    </tr>\n",
       "    <tr>\n",
       "      <th>1</th>\n",
       "      <td>Dollar gains on Greenspan speech\\n\\nThe dollar...</td>\n",
       "      <td>Business</td>\n",
       "      <td>428</td>\n",
       "    </tr>\n",
       "    <tr>\n",
       "      <th>2</th>\n",
       "      <td>High fuel prices hit BA's profits\\n\\nBritish A...</td>\n",
       "      <td>Business</td>\n",
       "      <td>463</td>\n",
       "    </tr>\n",
       "    <tr>\n",
       "      <th>3</th>\n",
       "      <td>Pernod takeover talk lifts Domecq\\n\\nShares in...</td>\n",
       "      <td>Business</td>\n",
       "      <td>304</td>\n",
       "    </tr>\n",
       "    <tr>\n",
       "      <th>4</th>\n",
       "      <td>Japan narrowly escapes recession\\n\\nJapan's ec...</td>\n",
       "      <td>Business</td>\n",
       "      <td>208</td>\n",
       "    </tr>\n",
       "  </tbody>\n",
       "</table>\n",
       "</div>"
      ],
      "text/plain": [
       "                                     article_content    Topics  length_article\n",
       "0  Ad sales boost Time Warner profit\\n\\nQuarterly...  Business             489\n",
       "1  Dollar gains on Greenspan speech\\n\\nThe dollar...  Business             428\n",
       "2  High fuel prices hit BA's profits\\n\\nBritish A...  Business             463\n",
       "3  Pernod takeover talk lifts Domecq\\n\\nShares in...  Business             304\n",
       "4  Japan narrowly escapes recession\\n\\nJapan's ec...  Business             208"
      ]
     },
     "execution_count": 22,
     "metadata": {},
     "output_type": "execute_result"
    }
   ],
   "source": [
    "corpus_df.head()"
   ]
  },
  {
   "cell_type": "code",
   "execution_count": 33,
   "id": "730d313f",
   "metadata": {},
   "outputs": [
    {
     "data": {
      "text/plain": [
       "<seaborn.axisgrid.FacetGrid at 0x198a0ca47c0>"
      ]
     },
     "execution_count": 33,
     "metadata": {},
     "output_type": "execute_result"
    }
   ],
   "source": [
    "# stacked dist plot\n",
    "sns.displot(corpus_df, x=\"length_article\", hue=\"Topics\", kind=\"kde\",height=7,aspect =1 )"
   ]
  },
  {
   "cell_type": "markdown",
   "id": "72e8a3e1",
   "metadata": {},
   "source": [
    "Data Preprocessing:\n",
    "\n",
    "Into lower case.\n",
    "Remove Numericals.\n",
    "Remove Punctuations any symbols and special characters.\n",
    "\n",
    "Remove stopwords.\n",
    "\n",
    "Lemmatize inflated words."
   ]
  },
  {
   "cell_type": "markdown",
   "id": "52b6d6e3",
   "metadata": {},
   "source": [
    "### Lower case: Initial steps to create global unique charcters."
   ]
  },
  {
   "cell_type": "code",
   "execution_count": 23,
   "id": "2f7be375",
   "metadata": {},
   "outputs": [],
   "source": [
    "# function lowers the characters\n",
    "def lowercase(strings_):\n",
    "  return strings_.lower()"
   ]
  },
  {
   "cell_type": "code",
   "execution_count": 24,
   "id": "a03407b1",
   "metadata": {},
   "outputs": [],
   "source": [
    "# applying function to article column\n",
    "corpus_df['article_content'] = corpus_df['article_content'].apply(lowercase)"
   ]
  },
  {
   "cell_type": "code",
   "execution_count": 25,
   "id": "a1b2132c",
   "metadata": {},
   "outputs": [
    {
     "name": "stdout",
     "output_type": "stream",
     "text": [
      "'eu referendum could cost £80m'\n",
      "\n",
      "it could cost £80m to run a uk referendum on the european constitution, ministers have revealed.\n",
      "\n",
      "in a written parliamentary answer, constitutional affairs minister chris leslie said the poll was likely to cost the same as a general election. mr leslie said the cost could not be compared with the only previous british referendum, held 30 years ago. ministers say the constitution would make the european union work better but critics fear creating a \"super state\". labour mp john cryer, whose question revealed the price estimate, said the cost surprised him but was not a central factor as it was important people had their say. but he said it would have been better to have rejected the constitution so avoiding the need for a referendum. the 2001 election cost £80m. no date for the vote has been set but foreign secretary jack straw has suggested it is unlikely to be held until early 2006 - after the predicted date for the next election. most voters said the uk should stay in the common market in the 1975 referendum.\n",
      "\n"
     ]
    }
   ],
   "source": [
    "print(corpus_df['article_content'][1283])"
   ]
  },
  {
   "cell_type": "markdown",
   "id": "ee57f1cb",
   "metadata": {},
   "source": [
    "### Remove Punctuations:"
   ]
  },
  {
   "cell_type": "code",
   "execution_count": 26,
   "id": "c7bd3853",
   "metadata": {},
   "outputs": [],
   "source": [
    "# importing natural language tool kit\n",
    "import nltk\n",
    "import string"
   ]
  },
  {
   "cell_type": "code",
   "execution_count": 27,
   "id": "b865f985",
   "metadata": {},
   "outputs": [],
   "source": [
    "def remove_punctuations(sub):\n",
    "\n",
    "  # punctuations list from nltk library\n",
    "  default_punctuations = [punc for punc in string.punctuation]\n",
    "\n",
    "  # create tokenizer instance with different delimiters\n",
    "  tokenizer = RegexpTokenizer(\"\\w+|\\$[\\d\\.]+|\\S+|\\,'+|\\'+|\\-\")\n",
    "\n",
    "  # list to store tokens\n",
    "  non_stop_msg = []\n",
    "\n",
    "  # tokens to final string of tokens\n",
    "  final_str = ' '\n",
    "\n",
    "  # loop through tokens\n",
    "  for char in tokenizer.tokenize(sub):\n",
    "\n",
    "    # conditionl statement \n",
    "    if char not in default_punctuations:\n",
    "      non_stop_msg.append(char)\n",
    "\n",
    "  return final_str.join(non_stop_msg)"
   ]
  },
  {
   "cell_type": "code",
   "execution_count": 28,
   "id": "14454bd0",
   "metadata": {},
   "outputs": [],
   "source": [
    "# applying functions\n",
    "corpus_df['article_content'] = corpus_df['article_content'].apply(remove_punctuations)"
   ]
  },
  {
   "cell_type": "code",
   "execution_count": 29,
   "id": "d39b059c",
   "metadata": {},
   "outputs": [],
   "source": [
    "# checking the lengths for each process\n",
    "corpus_df['after_rem_punc_length'] = corpus_df['article_content'].apply(length)"
   ]
  },
  {
   "cell_type": "code",
   "execution_count": 30,
   "id": "1a566b03",
   "metadata": {},
   "outputs": [
    {
     "data": {
      "text/html": [
       "<div>\n",
       "<style scoped>\n",
       "    .dataframe tbody tr th:only-of-type {\n",
       "        vertical-align: middle;\n",
       "    }\n",
       "\n",
       "    .dataframe tbody tr th {\n",
       "        vertical-align: top;\n",
       "    }\n",
       "\n",
       "    .dataframe thead th {\n",
       "        text-align: right;\n",
       "    }\n",
       "</style>\n",
       "<table border=\"1\" class=\"dataframe\">\n",
       "  <thead>\n",
       "    <tr style=\"text-align: right;\">\n",
       "      <th></th>\n",
       "      <th>article_content</th>\n",
       "      <th>Topics</th>\n",
       "      <th>length_article</th>\n",
       "      <th>after_rem_punc_length</th>\n",
       "    </tr>\n",
       "  </thead>\n",
       "  <tbody>\n",
       "    <tr>\n",
       "      <th>0</th>\n",
       "      <td>ad sales boost time warner profit quarterly pr...</td>\n",
       "      <td>Business</td>\n",
       "      <td>489</td>\n",
       "      <td>447</td>\n",
       "    </tr>\n",
       "    <tr>\n",
       "      <th>1</th>\n",
       "      <td>dollar gains on greenspan speech the dollar ha...</td>\n",
       "      <td>Business</td>\n",
       "      <td>428</td>\n",
       "      <td>396</td>\n",
       "    </tr>\n",
       "    <tr>\n",
       "      <th>2</th>\n",
       "      <td>high fuel prices hit ba 's profits british air...</td>\n",
       "      <td>Business</td>\n",
       "      <td>463</td>\n",
       "      <td>426</td>\n",
       "    </tr>\n",
       "    <tr>\n",
       "      <th>3</th>\n",
       "      <td>pernod takeover talk lifts domecq shares in uk...</td>\n",
       "      <td>Business</td>\n",
       "      <td>304</td>\n",
       "      <td>276</td>\n",
       "    </tr>\n",
       "    <tr>\n",
       "      <th>4</th>\n",
       "      <td>japan narrowly escapes recession japan 's econ...</td>\n",
       "      <td>Business</td>\n",
       "      <td>208</td>\n",
       "      <td>192</td>\n",
       "    </tr>\n",
       "  </tbody>\n",
       "</table>\n",
       "</div>"
      ],
      "text/plain": [
       "                                     article_content    Topics  \\\n",
       "0  ad sales boost time warner profit quarterly pr...  Business   \n",
       "1  dollar gains on greenspan speech the dollar ha...  Business   \n",
       "2  high fuel prices hit ba 's profits british air...  Business   \n",
       "3  pernod takeover talk lifts domecq shares in uk...  Business   \n",
       "4  japan narrowly escapes recession japan 's econ...  Business   \n",
       "\n",
       "   length_article  after_rem_punc_length  \n",
       "0             489                    447  \n",
       "1             428                    396  \n",
       "2             463                    426  \n",
       "3             304                    276  \n",
       "4             208                    192  "
      ]
     },
     "execution_count": 30,
     "metadata": {},
     "output_type": "execute_result"
    }
   ],
   "source": [
    "corpus_df.head()"
   ]
  },
  {
   "cell_type": "code",
   "execution_count": 31,
   "id": "d4a80682",
   "metadata": {},
   "outputs": [
    {
     "name": "stderr",
     "output_type": "stream",
     "text": [
      "[nltk_data] Downloading package stopwords to C:\\Users\\Vinoth\n",
      "[nltk_data]     Sundaram\\AppData\\Roaming\\nltk_data...\n",
      "[nltk_data]   Package stopwords is already up-to-date!\n"
     ]
    },
    {
     "data": {
      "text/plain": [
       "True"
      ]
     },
     "execution_count": 31,
     "metadata": {},
     "output_type": "execute_result"
    }
   ],
   "source": [
    "# import nltk stopwords\n",
    "nltk.download('stopwords')"
   ]
  },
  {
   "cell_type": "code",
   "execution_count": 32,
   "id": "b44d298f",
   "metadata": {},
   "outputs": [],
   "source": [
    "import string\n",
    "from nltk.corpus import stopwords"
   ]
  },
  {
   "cell_type": "code",
   "execution_count": 33,
   "id": "9b34223d",
   "metadata": {},
   "outputs": [],
   "source": [
    "def removing_stopwords(sub):\n",
    "\n",
    "  '''\n",
    "  functions takes string and return string without stopwords\n",
    "  '''\n",
    "  \n",
    "  # returns list of strings\n",
    "  tokenizer = RegexpTokenizer(\"\\w+|\\$[\\d\\.]+|\\S+|\\,'+|\\'+|\\-\")\n",
    "\n",
    "  # to store tokens which not in stopwords\n",
    "  msg = []\n",
    "\n",
    "  # null string to retun final string\n",
    "  final2       = ' '  \n",
    "\n",
    "  # loop through list of tokens\n",
    "  for elem in tokenizer.tokenize(sub):\n",
    "\n",
    "    # condition to remove stopwords\n",
    "    if elem.lower() not in stopwords.words('english'):\n",
    "      msg.append(elem)\n",
    "\n",
    "  return final2.join(msg)"
   ]
  },
  {
   "cell_type": "code",
   "execution_count": 34,
   "id": "b224a1ae",
   "metadata": {},
   "outputs": [],
   "source": [
    "# applying function to the corpus\n",
    "corpus_df['article_content'] = corpus_df['article_content'].apply(removing_stopwords)"
   ]
  },
  {
   "cell_type": "code",
   "execution_count": 35,
   "id": "6fb7a68e",
   "metadata": {},
   "outputs": [],
   "source": [
    "# check length after removing stopwords\n",
    "corpus_df['after_rem_stop_length'] = corpus_df['article_content'].apply(length)"
   ]
  },
  {
   "cell_type": "code",
   "execution_count": 36,
   "id": "867b6b47",
   "metadata": {},
   "outputs": [
    {
     "data": {
      "text/html": [
       "<div>\n",
       "<style scoped>\n",
       "    .dataframe tbody tr th:only-of-type {\n",
       "        vertical-align: middle;\n",
       "    }\n",
       "\n",
       "    .dataframe tbody tr th {\n",
       "        vertical-align: top;\n",
       "    }\n",
       "\n",
       "    .dataframe thead th {\n",
       "        text-align: right;\n",
       "    }\n",
       "</style>\n",
       "<table border=\"1\" class=\"dataframe\">\n",
       "  <thead>\n",
       "    <tr style=\"text-align: right;\">\n",
       "      <th></th>\n",
       "      <th>article_content</th>\n",
       "      <th>Topics</th>\n",
       "      <th>length_article</th>\n",
       "      <th>after_rem_punc_length</th>\n",
       "      <th>after_rem_stop_length</th>\n",
       "    </tr>\n",
       "  </thead>\n",
       "  <tbody>\n",
       "    <tr>\n",
       "      <th>0</th>\n",
       "      <td>ad sales boost time warner profit quarterly pr...</td>\n",
       "      <td>Business</td>\n",
       "      <td>489</td>\n",
       "      <td>447</td>\n",
       "      <td>280</td>\n",
       "    </tr>\n",
       "    <tr>\n",
       "      <th>1</th>\n",
       "      <td>dollar gains greenspan speech dollar hit highe...</td>\n",
       "      <td>Business</td>\n",
       "      <td>428</td>\n",
       "      <td>396</td>\n",
       "      <td>245</td>\n",
       "    </tr>\n",
       "    <tr>\n",
       "      <th>2</th>\n",
       "      <td>high fuel prices hit ba 's profits british air...</td>\n",
       "      <td>Business</td>\n",
       "      <td>463</td>\n",
       "      <td>426</td>\n",
       "      <td>294</td>\n",
       "    </tr>\n",
       "    <tr>\n",
       "      <th>3</th>\n",
       "      <td>pernod takeover talk lifts domecq shares uk dr...</td>\n",
       "      <td>Business</td>\n",
       "      <td>304</td>\n",
       "      <td>276</td>\n",
       "      <td>182</td>\n",
       "    </tr>\n",
       "    <tr>\n",
       "      <th>4</th>\n",
       "      <td>japan narrowly escapes recession japan 's econ...</td>\n",
       "      <td>Business</td>\n",
       "      <td>208</td>\n",
       "      <td>192</td>\n",
       "      <td>123</td>\n",
       "    </tr>\n",
       "  </tbody>\n",
       "</table>\n",
       "</div>"
      ],
      "text/plain": [
       "                                     article_content    Topics  \\\n",
       "0  ad sales boost time warner profit quarterly pr...  Business   \n",
       "1  dollar gains greenspan speech dollar hit highe...  Business   \n",
       "2  high fuel prices hit ba 's profits british air...  Business   \n",
       "3  pernod takeover talk lifts domecq shares uk dr...  Business   \n",
       "4  japan narrowly escapes recession japan 's econ...  Business   \n",
       "\n",
       "   length_article  after_rem_punc_length  after_rem_stop_length  \n",
       "0             489                    447                    280  \n",
       "1             428                    396                    245  \n",
       "2             463                    426                    294  \n",
       "3             304                    276                    182  \n",
       "4             208                    192                    123  "
      ]
     },
     "execution_count": 36,
     "metadata": {},
     "output_type": "execute_result"
    }
   ],
   "source": [
    "corpus_df.head()"
   ]
  },
  {
   "cell_type": "markdown",
   "id": "a59d35f1",
   "metadata": {},
   "source": [
    "### Removing Numericals:"
   ]
  },
  {
   "cell_type": "code",
   "execution_count": 37,
   "id": "2beb408b",
   "metadata": {},
   "outputs": [],
   "source": [
    "def removing_numericals(doc):\n",
    "\n",
    "  '''\n",
    "  retunrs string that without having stand alone numerics.\n",
    "  '''\n",
    "  # returns list of strings\n",
    "  tokenizer = RegexpTokenizer(\"\\w+|\\$[\\d\\.]+|\\S+|\\,'+|\\'+|\\-\")\n",
    "\n",
    "  # stores non numeric tokens\n",
    "  msg1 = []\n",
    "\n",
    "  # list to strings\n",
    "  final3       = ' '  \n",
    "\n",
    "  # loop through list of tokens\n",
    "  for token in tokenizer.tokenize(doc):\n",
    "\n",
    "    # boolean condition\n",
    "    if token.isdecimal() == False:\n",
    "      msg1.append(token)\n",
    "\n",
    "  return final3.join(msg1)"
   ]
  },
  {
   "cell_type": "code",
   "execution_count": 38,
   "id": "43d9d5e7",
   "metadata": {},
   "outputs": [],
   "source": [
    "# applying function\n",
    "corpus_df['article_content'] = corpus_df['article_content'].apply(removing_numericals)"
   ]
  },
  {
   "cell_type": "code",
   "execution_count": 39,
   "id": "4a518d13",
   "metadata": {},
   "outputs": [],
   "source": [
    "# checking length after removing digits\n",
    "corpus_df['after_rem_num'] = corpus_df['article_content'].apply(length)"
   ]
  },
  {
   "cell_type": "code",
   "execution_count": 40,
   "id": "8325fddf",
   "metadata": {},
   "outputs": [
    {
     "data": {
      "text/html": [
       "<div>\n",
       "<style scoped>\n",
       "    .dataframe tbody tr th:only-of-type {\n",
       "        vertical-align: middle;\n",
       "    }\n",
       "\n",
       "    .dataframe tbody tr th {\n",
       "        vertical-align: top;\n",
       "    }\n",
       "\n",
       "    .dataframe thead th {\n",
       "        text-align: right;\n",
       "    }\n",
       "</style>\n",
       "<table border=\"1\" class=\"dataframe\">\n",
       "  <thead>\n",
       "    <tr style=\"text-align: right;\">\n",
       "      <th></th>\n",
       "      <th>article_content</th>\n",
       "      <th>Topics</th>\n",
       "      <th>length_article</th>\n",
       "      <th>after_rem_punc_length</th>\n",
       "      <th>after_rem_stop_length</th>\n",
       "      <th>after_rem_num</th>\n",
       "    </tr>\n",
       "  </thead>\n",
       "  <tbody>\n",
       "    <tr>\n",
       "      <th>0</th>\n",
       "      <td>ad sales boost time warner profit quarterly pr...</td>\n",
       "      <td>Business</td>\n",
       "      <td>489</td>\n",
       "      <td>447</td>\n",
       "      <td>280</td>\n",
       "      <td>267</td>\n",
       "    </tr>\n",
       "    <tr>\n",
       "      <th>1</th>\n",
       "      <td>dollar gains greenspan speech dollar hit highe...</td>\n",
       "      <td>Business</td>\n",
       "      <td>428</td>\n",
       "      <td>396</td>\n",
       "      <td>245</td>\n",
       "      <td>244</td>\n",
       "    </tr>\n",
       "    <tr>\n",
       "      <th>2</th>\n",
       "      <td>high fuel prices hit ba 's profits british air...</td>\n",
       "      <td>Business</td>\n",
       "      <td>463</td>\n",
       "      <td>426</td>\n",
       "      <td>294</td>\n",
       "      <td>278</td>\n",
       "    </tr>\n",
       "    <tr>\n",
       "      <th>3</th>\n",
       "      <td>pernod takeover talk lifts domecq shares uk dr...</td>\n",
       "      <td>Business</td>\n",
       "      <td>304</td>\n",
       "      <td>276</td>\n",
       "      <td>182</td>\n",
       "      <td>174</td>\n",
       "    </tr>\n",
       "    <tr>\n",
       "      <th>4</th>\n",
       "      <td>japan narrowly escapes recession japan 's econ...</td>\n",
       "      <td>Business</td>\n",
       "      <td>208</td>\n",
       "      <td>192</td>\n",
       "      <td>123</td>\n",
       "      <td>120</td>\n",
       "    </tr>\n",
       "  </tbody>\n",
       "</table>\n",
       "</div>"
      ],
      "text/plain": [
       "                                     article_content    Topics  \\\n",
       "0  ad sales boost time warner profit quarterly pr...  Business   \n",
       "1  dollar gains greenspan speech dollar hit highe...  Business   \n",
       "2  high fuel prices hit ba 's profits british air...  Business   \n",
       "3  pernod takeover talk lifts domecq shares uk dr...  Business   \n",
       "4  japan narrowly escapes recession japan 's econ...  Business   \n",
       "\n",
       "   length_article  after_rem_punc_length  after_rem_stop_length  after_rem_num  \n",
       "0             489                    447                    280            267  \n",
       "1             428                    396                    245            244  \n",
       "2             463                    426                    294            278  \n",
       "3             304                    276                    182            174  \n",
       "4             208                    192                    123            120  "
      ]
     },
     "execution_count": 40,
     "metadata": {},
     "output_type": "execute_result"
    }
   ],
   "source": [
    "corpus_df.head()"
   ]
  },
  {
   "cell_type": "code",
   "execution_count": 41,
   "id": "2f691639",
   "metadata": {},
   "outputs": [],
   "source": [
    "# Import the wordcloud library\n",
    "from wordcloud import WordCloud"
   ]
  },
  {
   "cell_type": "code",
   "execution_count": 42,
   "id": "42c683f5",
   "metadata": {},
   "outputs": [],
   "source": [
    "# non contextual words\n",
    "stopwords_ = ['said', 'make', 'made', 'still', 'take', 'way', 'already', 'see', 'set','good','may','much','back','go','come']\n",
    "\n",
    "def removing_stopwords_(sub):\n",
    "  '''\n",
    "  returns strings which not having defined stopwords\n",
    "  '''\n",
    "  # returns list of strings\n",
    "  tokenizer = RegexpTokenizer(\"\\w+|\\$[\\d\\.]+|\\S+|\\,'+|\\'+|\\-\")\n",
    "\n",
    "  # to stores tokens\n",
    "  msg = []\n",
    "\n",
    "  # null string to joint list of strings\n",
    "  final2       = ' '  \n",
    "\n",
    "  # loop through the list of strings\n",
    "  for elem in tokenizer.tokenize(sub):\n",
    "\n",
    "    # conditional statement\n",
    "    if elem.lower() not in stopwords_:\n",
    "      msg.append(elem)\n",
    "\n",
    "  return final2.join(msg)"
   ]
  },
  {
   "cell_type": "code",
   "execution_count": 43,
   "id": "0d7d13a3",
   "metadata": {},
   "outputs": [],
   "source": [
    "# apply function to corpus\n",
    "corpus_df['article_content'] = corpus_df['article_content'].apply(removing_stopwords_)"
   ]
  },
  {
   "cell_type": "code",
   "execution_count": 55,
   "id": "1aec0cf5",
   "metadata": {},
   "outputs": [
    {
     "data": {
      "image/png": "[encoded data removed]",
      "text/plain": [
       "<PIL.Image.Image image mode=RGB size=400x200 at 0x198A0CA4100>"
      ]
     },
     "execution_count": 55,
     "metadata": {},
     "output_type": "execute_result"
    }
   ],
   "source": [
    "# Join the different processed titles together.\n",
    "long_string = ','.join(list(corpus_df['article_content'].values))\n",
    "\n",
    "# Create a WordCloud object\n",
    "wordcloud = WordCloud(background_color=\"black\", max_words=5000, contour_width=3, contour_color='steelblue')\n",
    "\n",
    "# Generate a word cloud\n",
    "wordcloud.generate(long_string)\n",
    "\n",
    "# Visualize the word cloud\n",
    "wordcloud.to_image()"
   ]
  },
  {
   "cell_type": "markdown",
   "id": "07f6b701",
   "metadata": {},
   "source": [
    "### Lemmatization"
   ]
  },
  {
   "cell_type": "code",
   "execution_count": 44,
   "id": "6700fdb7",
   "metadata": {},
   "outputs": [
    {
     "name": "stderr",
     "output_type": "stream",
     "text": [
      "[nltk_data] Downloading package wordnet to C:\\Users\\Vinoth\n",
      "[nltk_data]     Sundaram\\AppData\\Roaming\\nltk_data...\n",
      "[nltk_data]   Package wordnet is already up-to-date!\n"
     ]
    },
    {
     "data": {
      "text/plain": [
       "True"
      ]
     },
     "execution_count": 44,
     "metadata": {},
     "output_type": "execute_result"
    }
   ],
   "source": [
    "# import require library for lemmatization\n",
    "import nltk\n",
    "nltk.download('wordnet')"
   ]
  },
  {
   "cell_type": "code",
   "execution_count": 45,
   "id": "8f714c66",
   "metadata": {},
   "outputs": [],
   "source": [
    "from nltk.stem.wordnet import WordNetLemmatizer\n",
    "\n",
    "def get_lemma2(sub):\n",
    "\n",
    "  '''\n",
    "  function returns root word from the inflated ones\n",
    "  '''\n",
    "  \n",
    "  tokenizer = RegexpTokenizer(\"\\w+|\\$[\\d\\.]+|\\S+|\\,'+|\\'+|\\-\")\n",
    "  msg2 = []\n",
    "  final3       = ' '  \n",
    "  for elem in tokenizer.tokenize(sub):\n",
    "    msg2.append(WordNetLemmatizer().lemmatize(elem))\n",
    "\n",
    "  return final3.join(msg2)"
   ]
  },
  {
   "cell_type": "code",
   "execution_count": 46,
   "id": "9610e9db",
   "metadata": {},
   "outputs": [],
   "source": [
    "# applying function to articles\n",
    "corpus_df['article_content'] = corpus_df['article_content'].apply(get_lemma2)"
   ]
  },
  {
   "cell_type": "markdown",
   "id": "33676ecd",
   "metadata": {},
   "source": [
    "### Removing tokens whose size less than 3:"
   ]
  },
  {
   "cell_type": "code",
   "execution_count": 47,
   "id": "899e475b",
   "metadata": {},
   "outputs": [],
   "source": [
    "def remove_tokens(sub):\n",
    "\n",
    "  '''\n",
    "  fubction takes list of list tokens and returns list of tokens whose length greater or equals to 3\n",
    "  '''\n",
    "  # returns list of strings\n",
    "  tokenizer = RegexpTokenizer(\"\\w+|\\$[\\d\\.]+|\\S+|\\,'+|\\'+|\\-\")\n",
    "\n",
    "  # to store tokens\n",
    "  msg2 = []\n",
    "\n",
    "  # convert list of strings to single string\n",
    "  final3       = ' '  \n",
    "\n",
    "  # loop through list of tokens\n",
    "  for elem in tokenizer.tokenize(sub):\n",
    "\n",
    "    # conditional statement\n",
    "    if len(elem) >= 3:\n",
    "      msg2.append(elem)\n",
    "\n",
    "  return final3.join(msg2)"
   ]
  },
  {
   "cell_type": "code",
   "execution_count": 48,
   "id": "f2340681",
   "metadata": {},
   "outputs": [],
   "source": [
    "# applying function to the articles\n",
    "corpus_df['article_content'] = corpus_df['article_content'].apply(remove_tokens)"
   ]
  },
  {
   "cell_type": "code",
   "execution_count": 49,
   "id": "1d52131a",
   "metadata": {},
   "outputs": [],
   "source": [
    "corpus_df['final_length'] = corpus_df['article_content'].apply(length)"
   ]
  },
  {
   "cell_type": "code",
   "execution_count": 50,
   "id": "3ccbd607",
   "metadata": {},
   "outputs": [
    {
     "data": {
      "text/html": [
       "<div>\n",
       "<style scoped>\n",
       "    .dataframe tbody tr th:only-of-type {\n",
       "        vertical-align: middle;\n",
       "    }\n",
       "\n",
       "    .dataframe tbody tr th {\n",
       "        vertical-align: top;\n",
       "    }\n",
       "\n",
       "    .dataframe thead th {\n",
       "        text-align: right;\n",
       "    }\n",
       "</style>\n",
       "<table border=\"1\" class=\"dataframe\">\n",
       "  <thead>\n",
       "    <tr style=\"text-align: right;\">\n",
       "      <th></th>\n",
       "      <th>article_content</th>\n",
       "      <th>Topics</th>\n",
       "      <th>length_article</th>\n",
       "      <th>after_rem_punc_length</th>\n",
       "      <th>after_rem_stop_length</th>\n",
       "      <th>after_rem_num</th>\n",
       "      <th>final_length</th>\n",
       "    </tr>\n",
       "  </thead>\n",
       "  <tbody>\n",
       "    <tr>\n",
       "      <th>0</th>\n",
       "      <td>sale boost time warner profit quarterly profit...</td>\n",
       "      <td>Business</td>\n",
       "      <td>489</td>\n",
       "      <td>447</td>\n",
       "      <td>280</td>\n",
       "      <td>267</td>\n",
       "      <td>241</td>\n",
       "    </tr>\n",
       "    <tr>\n",
       "      <th>1</th>\n",
       "      <td>dollar gain greenspan speech dollar hit highes...</td>\n",
       "      <td>Business</td>\n",
       "      <td>428</td>\n",
       "      <td>396</td>\n",
       "      <td>245</td>\n",
       "      <td>244</td>\n",
       "      <td>213</td>\n",
       "    </tr>\n",
       "    <tr>\n",
       "      <th>2</th>\n",
       "      <td>high fuel price hit profit british airway blam...</td>\n",
       "      <td>Business</td>\n",
       "      <td>463</td>\n",
       "      <td>426</td>\n",
       "      <td>294</td>\n",
       "      <td>278</td>\n",
       "      <td>242</td>\n",
       "    </tr>\n",
       "    <tr>\n",
       "      <th>3</th>\n",
       "      <td>pernod takeover talk lift domecq share drink f...</td>\n",
       "      <td>Business</td>\n",
       "      <td>304</td>\n",
       "      <td>276</td>\n",
       "      <td>182</td>\n",
       "      <td>174</td>\n",
       "      <td>163</td>\n",
       "    </tr>\n",
       "    <tr>\n",
       "      <th>4</th>\n",
       "      <td>japan narrowly escape recession japan economy ...</td>\n",
       "      <td>Business</td>\n",
       "      <td>208</td>\n",
       "      <td>192</td>\n",
       "      <td>123</td>\n",
       "      <td>120</td>\n",
       "      <td>109</td>\n",
       "    </tr>\n",
       "  </tbody>\n",
       "</table>\n",
       "</div>"
      ],
      "text/plain": [
       "                                     article_content    Topics  \\\n",
       "0  sale boost time warner profit quarterly profit...  Business   \n",
       "1  dollar gain greenspan speech dollar hit highes...  Business   \n",
       "2  high fuel price hit profit british airway blam...  Business   \n",
       "3  pernod takeover talk lift domecq share drink f...  Business   \n",
       "4  japan narrowly escape recession japan economy ...  Business   \n",
       "\n",
       "   length_article  after_rem_punc_length  after_rem_stop_length  \\\n",
       "0             489                    447                    280   \n",
       "1             428                    396                    245   \n",
       "2             463                    426                    294   \n",
       "3             304                    276                    182   \n",
       "4             208                    192                    123   \n",
       "\n",
       "   after_rem_num  final_length  \n",
       "0            267           241  \n",
       "1            244           213  \n",
       "2            278           242  \n",
       "3            174           163  \n",
       "4            120           109  "
      ]
     },
     "execution_count": 50,
     "metadata": {},
     "output_type": "execute_result"
    }
   ],
   "source": [
    "corpus_df.head()"
   ]
  },
  {
   "cell_type": "markdown",
   "id": "50428484",
   "metadata": {},
   "source": [
    "### LATENT DIRICHLET ALLOCATION"
   ]
  },
  {
   "cell_type": "code",
   "execution_count": 51,
   "id": "cb54aa17",
   "metadata": {},
   "outputs": [],
   "source": [
    "import gensim\n",
    "from gensim.models.phrases import Phrases, ENGLISH_CONNECTOR_WORDS"
   ]
  },
  {
   "cell_type": "code",
   "execution_count": 53,
   "id": "51d7a3e6",
   "metadata": {},
   "outputs": [],
   "source": [
    "# copying df\n",
    "corpus_df_2 = corpus_df.copy(deep=True)\n"
   ]
  },
  {
   "cell_type": "code",
   "execution_count": 54,
   "id": "1b55c37f",
   "metadata": {},
   "outputs": [
    {
     "data": {
      "text/html": [
       "<div>\n",
       "<style scoped>\n",
       "    .dataframe tbody tr th:only-of-type {\n",
       "        vertical-align: middle;\n",
       "    }\n",
       "\n",
       "    .dataframe tbody tr th {\n",
       "        vertical-align: top;\n",
       "    }\n",
       "\n",
       "    .dataframe thead th {\n",
       "        text-align: right;\n",
       "    }\n",
       "</style>\n",
       "<table border=\"1\" class=\"dataframe\">\n",
       "  <thead>\n",
       "    <tr style=\"text-align: right;\">\n",
       "      <th></th>\n",
       "      <th>article_content</th>\n",
       "      <th>Topics</th>\n",
       "      <th>length_article</th>\n",
       "      <th>after_rem_punc_length</th>\n",
       "      <th>after_rem_stop_length</th>\n",
       "      <th>after_rem_num</th>\n",
       "      <th>final_length</th>\n",
       "    </tr>\n",
       "  </thead>\n",
       "  <tbody>\n",
       "    <tr>\n",
       "      <th>0</th>\n",
       "      <td>sale boost time warner profit quarterly profit...</td>\n",
       "      <td>Business</td>\n",
       "      <td>489</td>\n",
       "      <td>447</td>\n",
       "      <td>280</td>\n",
       "      <td>267</td>\n",
       "      <td>241</td>\n",
       "    </tr>\n",
       "    <tr>\n",
       "      <th>1</th>\n",
       "      <td>dollar gain greenspan speech dollar hit highes...</td>\n",
       "      <td>Business</td>\n",
       "      <td>428</td>\n",
       "      <td>396</td>\n",
       "      <td>245</td>\n",
       "      <td>244</td>\n",
       "      <td>213</td>\n",
       "    </tr>\n",
       "    <tr>\n",
       "      <th>2</th>\n",
       "      <td>high fuel price hit profit british airway blam...</td>\n",
       "      <td>Business</td>\n",
       "      <td>463</td>\n",
       "      <td>426</td>\n",
       "      <td>294</td>\n",
       "      <td>278</td>\n",
       "      <td>242</td>\n",
       "    </tr>\n",
       "    <tr>\n",
       "      <th>3</th>\n",
       "      <td>pernod takeover talk lift domecq share drink f...</td>\n",
       "      <td>Business</td>\n",
       "      <td>304</td>\n",
       "      <td>276</td>\n",
       "      <td>182</td>\n",
       "      <td>174</td>\n",
       "      <td>163</td>\n",
       "    </tr>\n",
       "    <tr>\n",
       "      <th>4</th>\n",
       "      <td>japan narrowly escape recession japan economy ...</td>\n",
       "      <td>Business</td>\n",
       "      <td>208</td>\n",
       "      <td>192</td>\n",
       "      <td>123</td>\n",
       "      <td>120</td>\n",
       "      <td>109</td>\n",
       "    </tr>\n",
       "  </tbody>\n",
       "</table>\n",
       "</div>"
      ],
      "text/plain": [
       "                                     article_content    Topics  \\\n",
       "0  sale boost time warner profit quarterly profit...  Business   \n",
       "1  dollar gain greenspan speech dollar hit highes...  Business   \n",
       "2  high fuel price hit profit british airway blam...  Business   \n",
       "3  pernod takeover talk lift domecq share drink f...  Business   \n",
       "4  japan narrowly escape recession japan economy ...  Business   \n",
       "\n",
       "   length_article  after_rem_punc_length  after_rem_stop_length  \\\n",
       "0             489                    447                    280   \n",
       "1             428                    396                    245   \n",
       "2             463                    426                    294   \n",
       "3             304                    276                    182   \n",
       "4             208                    192                    123   \n",
       "\n",
       "   after_rem_num  final_length  \n",
       "0            267           241  \n",
       "1            244           213  \n",
       "2            278           242  \n",
       "3            174           163  \n",
       "4            120           109  "
      ]
     },
     "execution_count": 54,
     "metadata": {},
     "output_type": "execute_result"
    }
   ],
   "source": [
    "corpus_df_2.head()"
   ]
  },
  {
   "cell_type": "code",
   "execution_count": 55,
   "id": "ac360ae4",
   "metadata": {},
   "outputs": [],
   "source": [
    "# tokenizing strings\n",
    "def tokenizer(doc):\n",
    "  tokenizer = RegexpTokenizer(\"\\w+|\\$[\\d\\.]+|\\S+|\\,'+|\\'+|\\-\")\n",
    "  tokenized_doc = tokenizer.tokenize(doc)\n",
    "  return tokenized_doc"
   ]
  },
  {
   "cell_type": "code",
   "execution_count": 56,
   "id": "bff1cebe",
   "metadata": {},
   "outputs": [],
   "source": [
    "# applying function\n",
    "corpus_df_2['article_content'] = corpus_df_2['article_content'].apply(tokenizer)"
   ]
  },
  {
   "cell_type": "code",
   "execution_count": 57,
   "id": "d1e4c787",
   "metadata": {},
   "outputs": [],
   "source": [
    "# Hold out one document from business\n",
    "business_hold_out_1 = corpus_df_2.iloc[507]['article_content']\n",
    "\n",
    "# Hold out one document from entertainment\n",
    "entertainment_hold_out_2 = corpus_df_2.iloc[892]['article_content']\n",
    "\n",
    "# Hold out one document from politics\n",
    "politics_hold_out_3 = corpus_df_2.iloc[899]['article_content']\n",
    "\n",
    "# Hold out one document from sport\n",
    "sport_hold_out_4 = corpus_df_2.iloc[1317]['article_content']\n",
    "\n",
    "# Hold out one document from Tech\n",
    "Tech_hold_out_5 = corpus_df_2.iloc[2100]['article_content']"
   ]
  },
  {
   "cell_type": "code",
   "execution_count": 58,
   "id": "8161b538",
   "metadata": {},
   "outputs": [],
   "source": [
    "# dropping test documents from corpus\n",
    "corpus_df_2 = corpus_df_2.drop([507,892,899,1317,2100],axis=0)"
   ]
  },
  {
   "cell_type": "code",
   "execution_count": 59,
   "id": "9b3a174b",
   "metadata": {},
   "outputs": [],
   "source": [
    "# Add bigrams and trigrams to docs.\n",
    "bigram = Phrases(corpus_df_2['article_content'], min_count=1,threshold=1, connector_words=ENGLISH_CONNECTOR_WORDS)"
   ]
  },
  {
   "cell_type": "code",
   "execution_count": 124,
   "id": "1c8b6eb7",
   "metadata": {},
   "outputs": [],
   "source": [
    "frozen_model = bigram.freeze()"
   ]
  },
  {
   "cell_type": "code",
   "execution_count": 125,
   "id": "343ff404",
   "metadata": {},
   "outputs": [],
   "source": [
    "# frozen_model.save(\"my_phrase_model.pkl\")"
   ]
  },
  {
   "cell_type": "code",
   "execution_count": 126,
   "id": "d6ff52f6",
   "metadata": {},
   "outputs": [
    {
     "data": {
      "text/plain": [
       "<gensim.interfaces.TransformedCorpus at 0x2417d421040>"
      ]
     },
     "execution_count": 126,
     "metadata": {},
     "output_type": "execute_result"
    }
   ],
   "source": [
    "bigram[corpus_df_2['article_content'][]"
   ]
  },
  {
   "cell_type": "code",
   "execution_count": 60,
   "id": "fea5aa8d",
   "metadata": {},
   "outputs": [],
   "source": [
    "for idx in list(corpus_df_2['article_content'].index):\n",
    "    for token in bigram[corpus_df_2['article_content'][idx]]:\n",
    "        if '_' in token:\n",
    "            # Token is a bigram, add to document.\n",
    "            corpus_df_2['article_content'][idx].append(token)\n"
   ]
  },
  {
   "cell_type": "code",
   "execution_count": 61,
   "id": "ac3f537b",
   "metadata": {},
   "outputs": [],
   "source": [
    "# import library for LDA\n",
    "from gensim import corpora\n",
    "from gensim.corpora import Dictionary"
   ]
  },
  {
   "cell_type": "code",
   "execution_count": 62,
   "id": "2a46d267",
   "metadata": {},
   "outputs": [],
   "source": [
    "# creating dictionary \n",
    "word_to_ID = Dictionary(corpus_df_2['article_content'])"
   ]
  },
  {
   "cell_type": "code",
   "execution_count": 63,
   "id": "7aeb9014",
   "metadata": {},
   "outputs": [],
   "source": [
    "# returns list of tuples, in BoW and frequency pair\n",
    "corpus = [word_to_ID.doc2bow(doc) for doc in corpus_df_2['article_content']]"
   ]
  },
  {
   "cell_type": "code",
   "execution_count": 119,
   "id": "906875d8",
   "metadata": {},
   "outputs": [],
   "source": [
    "word_to_ID.save_as_text('Doc_2_Bow')"
   ]
  },
  {
   "cell_type": "code",
   "execution_count": 120,
   "id": "5f907efa",
   "metadata": {},
   "outputs": [],
   "source": [
    "loaded_dct = Dictionary.load_from_text('Doc_2_Bow')"
   ]
  },
  {
   "cell_type": "code",
   "execution_count": 121,
   "id": "a3c349ee",
   "metadata": {},
   "outputs": [
    {
     "data": {
      "text/plain": [
       "True"
      ]
     },
     "execution_count": 121,
     "metadata": {},
     "output_type": "execute_result"
    }
   ],
   "source": [
    "word_to_ID.token2id == loaded_dct.token2id"
   ]
  },
  {
   "cell_type": "code",
   "execution_count": 64,
   "id": "493776b5",
   "metadata": {},
   "outputs": [],
   "source": [
    "# import LDA model from gensims\n",
    "from gensim.models import LdaModel"
   ]
  },
  {
   "cell_type": "code",
   "execution_count": 65,
   "id": "d3cec193",
   "metadata": {},
   "outputs": [],
   "source": [
    "# creating LD instance with optimal parametres\n",
    "lda = LdaModel(corpus=corpus,num_topics = 10, id2word = word_to_ID, \n",
    "               chunksize=400, passes=20,random_state=100,per_word_topics=True,alpha='symmetric',eta=None)"
   ]
  },
  {
   "cell_type": "code",
   "execution_count": 66,
   "id": "5b80a7ed",
   "metadata": {},
   "outputs": [
    {
     "data": {
      "text/plain": [
       "[(0,\n",
       "  '0.004*\"peel\" + 0.002*\"teach\" + 0.002*\"carroll\" + 0.001*\"listing\" + 0.001*\"mae\" + 0.001*\"fannie\" + 0.001*\"fannie_mae\" + 0.001*\"digby\" + 0.001*\"outweigh\" + 0.001*\"sec\"'),\n",
       " (1,\n",
       "  '0.009*\"yukos\" + 0.006*\"russian\" + 0.004*\"oil\" + 0.004*\"russia\" + 0.004*\"gazprom\" + 0.003*\"wong\" + 0.003*\"gas\" + 0.003*\"auction\" + 0.002*\"rosneft\" + 0.002*\"yugansk\"'),\n",
       " (2,\n",
       "  '0.011*\"government\" + 0.009*\"would\" + 0.009*\"labour\" + 0.008*\"party\" + 0.008*\"election\" + 0.007*\"minister\" + 0.007*\"year\" + 0.007*\"blair\" + 0.006*\"tory\" + 0.005*\"tax\"'),\n",
       " (3,\n",
       "  '0.013*\"tournament\" + 0.008*\"mourinho\" + 0.006*\"celtic\" + 0.003*\"norway\" + 0.002*\"juninho\" + 0.002*\"sponsorship\" + 0.001*\"wmc\" + 0.001*\"blip\" + 0.001*\"positive_result\" + 0.001*\"one_another\"'),\n",
       " (4,\n",
       "  '0.009*\"people\" + 0.006*\"new\" + 0.006*\"game\" + 0.005*\"one\" + 0.005*\"would\" + 0.005*\"also\" + 0.005*\"year\" + 0.005*\"technology\" + 0.005*\"service\" + 0.005*\"could\"'),\n",
       " (5,\n",
       "  '0.006*\"best\" + 0.006*\"first\" + 0.006*\"film\" + 0.006*\"year\" + 0.006*\"win\" + 0.005*\"england\" + 0.005*\"game\" + 0.005*\"last\" + 0.005*\"two\" + 0.004*\"award\"'),\n",
       " (6,\n",
       "  '0.002*\"workplace\" + 0.001*\"guinness\" + 0.001*\"/or\" + 0.000*\"diageo\" + 0.000*\"residency\" + 0.000*\"fao\" + 0.000*\"pension_system\" + 0.000*\"chateau\" + 0.000*\"working_people\" + 0.000*\"chalone\"'),\n",
       " (7,\n",
       "  '0.005*\"lse\" + 0.004*\"boerse\" + 0.004*\"deutsche_boerse\" + 0.003*\"deutsche\" + 0.002*\"euronext\" + 0.001*\"tci\" + 0.001*\"london_stock\" + 0.001*\"expectancy\" + 0.001*\"seifert\" + 0.001*\"furse\"'),\n",
       " (8,\n",
       "  '0.008*\"company\" + 0.008*\"firm\" + 0.008*\"security\" + 0.007*\"law\" + 0.007*\"software\" + 0.007*\"virus\" + 0.006*\"machine\" + 0.006*\"legal\" + 0.005*\"program\" + 0.005*\"would\"'),\n",
       " (9,\n",
       "  '0.000*\"kronor\" + 0.000*\"libya\" + 0.000*\"high_fuel\" + 0.000*\"higher_healthcare\" + 0.000*\"chevrolet\" + 0.000*\"expects_earnings\" + 0.000*\"european_business\" + 0.000*\"buick\" + 0.000*\"year_lower\" + 0.000*\"service_subsidiary\"')]"
      ]
     },
     "execution_count": 66,
     "metadata": {},
     "output_type": "execute_result"
    }
   ],
   "source": [
    "lda.print_topics(num_words=10)"
   ]
  },
  {
   "cell_type": "code",
   "execution_count": 79,
   "id": "bd6b8065",
   "metadata": {},
   "outputs": [],
   "source": [
    "from gensim import models"
   ]
  },
  {
   "cell_type": "code",
   "execution_count": 80,
   "id": "0c0270ec",
   "metadata": {},
   "outputs": [],
   "source": [
    "lda.save('lda_test.model')"
   ]
  },
  {
   "cell_type": "code",
   "execution_count": 111,
   "id": "8a4d05c6",
   "metadata": {},
   "outputs": [],
   "source": [
    "model_test =  models.LdaModel.load('lda_test.model')"
   ]
  },
  {
   "cell_type": "code",
   "execution_count": 74,
   "id": "d85d001a",
   "metadata": {},
   "outputs": [],
   "source": [
    "word_topic_dist = lda.print_topics(num_words=10)"
   ]
  },
  {
   "cell_type": "code",
   "execution_count": 79,
   "id": "885f9360",
   "metadata": {},
   "outputs": [],
   "source": [
    "def words_per_topic(num_of_words):\n",
    "  '''\n",
    "  function returns list of tuples, in tuples pair of topic number and topwords in topics along with weightage\n",
    "  '''\n",
    "  topics = lda.print_topics(num_words=num_of_words)\n",
    "  for topic in topics:\n",
    "    return topics"
   ]
  },
  {
   "cell_type": "code",
   "execution_count": 80,
   "id": "829c8323",
   "metadata": {},
   "outputs": [],
   "source": [
    "# applying function\n",
    "words_per_topic = words_per_topic(15)"
   ]
  },
  {
   "cell_type": "code",
   "execution_count": 81,
   "id": "6355090f",
   "metadata": {},
   "outputs": [],
   "source": [
    "# break the tuple and returns texts along with weightage\n",
    "words_topic_list = [tuples[1] for tuples in words_per_topic]"
   ]
  },
  {
   "cell_type": "code",
   "execution_count": 86,
   "id": "1d14d627",
   "metadata": {},
   "outputs": [
    {
     "data": {
      "text/plain": [
       "10"
      ]
     },
     "execution_count": 86,
     "metadata": {},
     "output_type": "execute_result"
    }
   ],
   "source": [
    "len(words_topic_list)"
   ]
  },
  {
   "cell_type": "code",
   "execution_count": 83,
   "id": "5b88d33a",
   "metadata": {},
   "outputs": [],
   "source": [
    "def topic_word_df(dist):\n",
    "\n",
    "  '''\n",
    "  function takes texts along with weightage and returns dataframe  of important texts\n",
    "  '''\n",
    "\n",
    "  #split the string with given delimiters\n",
    "  tokenizer = RegexpTokenizer(\"\\w+|\\$[\\d\\.]+|\\S+|\\,'+|\\'+|\\-+|\\*+|\\\"\")\n",
    "  d = tokenizer.tokenize(dist)\n",
    "\n",
    "  # returns list of string not having given delimiter\n",
    "  d = [x for x in d if x != '0']\n",
    "  d = [x for x in d if x != '+']\n",
    "\n",
    "  # returns dataframe with important words\n",
    "  text = []\n",
    "  final = ','\n",
    "  for elem in d:\n",
    "    text.append(elem[5:])\n",
    "    string = final.join(text)\n",
    "  return pd.DataFrame(string.split(','))"
   ]
  },
  {
   "cell_type": "code",
   "execution_count": 93,
   "id": "db52ea89",
   "metadata": {},
   "outputs": [],
   "source": [
    "df_ = pd.DataFrame()\n",
    "for i in range(len(words_topic_list)):\n",
    "    df = topic_word_df(words_topic_list[i])\n",
    "    df = df.rename(columns={0:'topic_' + str(i)})\n",
    "    df_['topic_' + str(i)] = df"
   ]
  },
  {
   "cell_type": "code",
   "execution_count": 95,
   "id": "1104a231",
   "metadata": {},
   "outputs": [
    {
     "data": {
      "text/html": [
       "<div>\n",
       "<style scoped>\n",
       "    .dataframe tbody tr th:only-of-type {\n",
       "        vertical-align: middle;\n",
       "    }\n",
       "\n",
       "    .dataframe tbody tr th {\n",
       "        vertical-align: top;\n",
       "    }\n",
       "\n",
       "    .dataframe thead th {\n",
       "        text-align: right;\n",
       "    }\n",
       "</style>\n",
       "<table border=\"1\" class=\"dataframe\">\n",
       "  <thead>\n",
       "    <tr style=\"text-align: right;\">\n",
       "      <th></th>\n",
       "      <th>topic_0</th>\n",
       "      <th>topic_1</th>\n",
       "      <th>topic_2</th>\n",
       "      <th>topic_3</th>\n",
       "      <th>topic_4</th>\n",
       "      <th>topic_5</th>\n",
       "      <th>topic_6</th>\n",
       "      <th>topic_7</th>\n",
       "      <th>topic_8</th>\n",
       "      <th>topic_9</th>\n",
       "    </tr>\n",
       "  </thead>\n",
       "  <tbody>\n",
       "    <tr>\n",
       "      <th>0</th>\n",
       "      <td>\"peel\"</td>\n",
       "      <td>\"yukos\"</td>\n",
       "      <td>\"government\"</td>\n",
       "      <td>\"tournament\"</td>\n",
       "      <td>\"people\"</td>\n",
       "      <td>\"best\"</td>\n",
       "      <td>\"workplace\"</td>\n",
       "      <td>\"lse\"</td>\n",
       "      <td>\"company\"</td>\n",
       "      <td>\"kronor\"</td>\n",
       "    </tr>\n",
       "    <tr>\n",
       "      <th>1</th>\n",
       "      <td>\"teach\"</td>\n",
       "      <td>\"russian\"</td>\n",
       "      <td>\"would\"</td>\n",
       "      <td>\"mourinho\"</td>\n",
       "      <td>\"new\"</td>\n",
       "      <td>\"first\"</td>\n",
       "      <td>\"guinness\"</td>\n",
       "      <td>\"boerse\"</td>\n",
       "      <td>\"firm\"</td>\n",
       "      <td>\"libya\"</td>\n",
       "    </tr>\n",
       "    <tr>\n",
       "      <th>2</th>\n",
       "      <td>\"carroll\"</td>\n",
       "      <td>\"oil\"</td>\n",
       "      <td>\"labour\"</td>\n",
       "      <td>\"celtic\"</td>\n",
       "      <td>\"game\"</td>\n",
       "      <td>\"film\"</td>\n",
       "      <td>\"/or\"</td>\n",
       "      <td>\"deutsche_boerse\"</td>\n",
       "      <td>\"security\"</td>\n",
       "      <td>\"high_fuel\"</td>\n",
       "    </tr>\n",
       "    <tr>\n",
       "      <th>3</th>\n",
       "      <td>\"listing\"</td>\n",
       "      <td>\"russia\"</td>\n",
       "      <td>\"party\"</td>\n",
       "      <td>\"norway\"</td>\n",
       "      <td>\"one\"</td>\n",
       "      <td>\"year\"</td>\n",
       "      <td>\"diageo\"</td>\n",
       "      <td>\"deutsche\"</td>\n",
       "      <td>\"law\"</td>\n",
       "      <td>\"higher_healthcare\"</td>\n",
       "    </tr>\n",
       "    <tr>\n",
       "      <th>4</th>\n",
       "      <td>\"fannie\"</td>\n",
       "      <td>\"gazprom\"</td>\n",
       "      <td>\"election\"</td>\n",
       "      <td>\"juninho\"</td>\n",
       "      <td>\"would\"</td>\n",
       "      <td>\"win\"</td>\n",
       "      <td>\"residency\"</td>\n",
       "      <td>\"euronext\"</td>\n",
       "      <td>\"software\"</td>\n",
       "      <td>\"chevrolet\"</td>\n",
       "    </tr>\n",
       "    <tr>\n",
       "      <th>5</th>\n",
       "      <td>\"mae\"</td>\n",
       "      <td>\"wong\"</td>\n",
       "      <td>\"minister\"</td>\n",
       "      <td>\"sponsorship\"</td>\n",
       "      <td>\"also\"</td>\n",
       "      <td>\"england\"</td>\n",
       "      <td>\"fao\"</td>\n",
       "      <td>\"tci\"</td>\n",
       "      <td>\"virus\"</td>\n",
       "      <td>\"expects_earnings\"</td>\n",
       "    </tr>\n",
       "    <tr>\n",
       "      <th>6</th>\n",
       "      <td>\"fannie_mae\"</td>\n",
       "      <td>\"gas\"</td>\n",
       "      <td>\"year\"</td>\n",
       "      <td>\"wmc\"</td>\n",
       "      <td>\"year\"</td>\n",
       "      <td>\"game\"</td>\n",
       "      <td>\"pension_system\"</td>\n",
       "      <td>\"london_stock\"</td>\n",
       "      <td>\"machine\"</td>\n",
       "      <td>\"european_business\"</td>\n",
       "    </tr>\n",
       "    <tr>\n",
       "      <th>7</th>\n",
       "      <td>\"digby\"</td>\n",
       "      <td>\"auction\"</td>\n",
       "      <td>\"blair\"</td>\n",
       "      <td>\"blip\"</td>\n",
       "      <td>\"technology\"</td>\n",
       "      <td>\"last\"</td>\n",
       "      <td>\"chateau\"</td>\n",
       "      <td>\"expectancy\"</td>\n",
       "      <td>\"legal\"</td>\n",
       "      <td>\"year_lower\"</td>\n",
       "    </tr>\n",
       "    <tr>\n",
       "      <th>8</th>\n",
       "      <td>\"outweigh\"</td>\n",
       "      <td>\"rosneft\"</td>\n",
       "      <td>\"tory\"</td>\n",
       "      <td>\"positive_result\"</td>\n",
       "      <td>\"service\"</td>\n",
       "      <td>\"two\"</td>\n",
       "      <td>\"working_people\"</td>\n",
       "      <td>\"seifert\"</td>\n",
       "      <td>\"program\"</td>\n",
       "      <td>\"buick\"</td>\n",
       "    </tr>\n",
       "    <tr>\n",
       "      <th>9</th>\n",
       "      <td>\"sec\"</td>\n",
       "      <td>\"yugansk\"</td>\n",
       "      <td>\"tax\"</td>\n",
       "      <td>\"one_another\"</td>\n",
       "      <td>\"could\"</td>\n",
       "      <td>\"award\"</td>\n",
       "      <td>\"chalone\"</td>\n",
       "      <td>\"furse\"</td>\n",
       "      <td>\"would\"</td>\n",
       "      <td>\"service_subsidiary\"</td>\n",
       "    </tr>\n",
       "    <tr>\n",
       "      <th>10</th>\n",
       "      <td>\"obliges\"</td>\n",
       "      <td>\"boeing\"</td>\n",
       "      <td>\"country\"</td>\n",
       "      <td>\"bat\"</td>\n",
       "      <td>\"mobile\"</td>\n",
       "      <td>\"second\"</td>\n",
       "      <td>\"length_residency\"</td>\n",
       "      <td>\"life_expectancy\"</td>\n",
       "      <td>\"court\"</td>\n",
       "      <td>\"cost_north\"</td>\n",
       "    </tr>\n",
       "    <tr>\n",
       "      <th>11</th>\n",
       "      <td>\"clause\"</td>\n",
       "      <td>\"carolina\"</td>\n",
       "      <td>\"plan\"</td>\n",
       "      <td>\"'neill\"</td>\n",
       "      <td>\"phone\"</td>\n",
       "      <td>\"time\"</td>\n",
       "      <td>\"rather_national\"</td>\n",
       "      <td>\"clearstream\"</td>\n",
       "      <td>\"anti\"</td>\n",
       "      <td>\"america_lower\"</td>\n",
       "    </tr>\n",
       "    <tr>\n",
       "      <th>12</th>\n",
       "      <td>\"first_appeared\"</td>\n",
       "      <td>\"postal\"</td>\n",
       "      <td>\"brown\"</td>\n",
       "      <td>\"deccan\"</td>\n",
       "      <td>\"music\"</td>\n",
       "      <td>\"play\"</td>\n",
       "      <td>\"pension_commission\"</td>\n",
       "      <td>\"bombardier\"</td>\n",
       "      <td>\"case\"</td>\n",
       "      <td>\"weak_sale\"</td>\n",
       "    </tr>\n",
       "    <tr>\n",
       "      <th>13</th>\n",
       "      <td>\"foreign_firm\"</td>\n",
       "      <td>\"khodorkovsky\"</td>\n",
       "      <td>\"economy\"</td>\n",
       "      <td>\"xstrata\"</td>\n",
       "      <td>\"time\"</td>\n",
       "      <td>\"match\"</td>\n",
       "      <td>\"wine_business\"</td>\n",
       "      <td>\"hardie\"</td>\n",
       "      <td>\"lord\"</td>\n",
       "      <td>\"profit_financial\"</td>\n",
       "    </tr>\n",
       "    <tr>\n",
       "      <th>14</th>\n",
       "      <td>\"mittal\"</td>\n",
       "      <td>\"union\"</td>\n",
       "      <td>\"say\"</td>\n",
       "      <td>\"cantona\"</td>\n",
       "      <td>\"get\"</td>\n",
       "      <td>\"world\"</td>\n",
       "      <td>\"year_ending\"</td>\n",
       "      <td>\"offer_lse\"</td>\n",
       "      <td>\"file\"</td>\n",
       "      <td>\"grappling_loss\"</td>\n",
       "    </tr>\n",
       "  </tbody>\n",
       "</table>\n",
       "</div>"
      ],
      "text/plain": [
       "             topic_0         topic_1       topic_2            topic_3  \\\n",
       "0             \"peel\"         \"yukos\"  \"government\"       \"tournament\"   \n",
       "1            \"teach\"       \"russian\"       \"would\"         \"mourinho\"   \n",
       "2          \"carroll\"           \"oil\"      \"labour\"           \"celtic\"   \n",
       "3          \"listing\"        \"russia\"       \"party\"           \"norway\"   \n",
       "4           \"fannie\"       \"gazprom\"    \"election\"          \"juninho\"   \n",
       "5              \"mae\"          \"wong\"    \"minister\"      \"sponsorship\"   \n",
       "6       \"fannie_mae\"           \"gas\"        \"year\"              \"wmc\"   \n",
       "7            \"digby\"       \"auction\"       \"blair\"             \"blip\"   \n",
       "8         \"outweigh\"       \"rosneft\"        \"tory\"  \"positive_result\"   \n",
       "9              \"sec\"       \"yugansk\"         \"tax\"      \"one_another\"   \n",
       "10         \"obliges\"        \"boeing\"     \"country\"              \"bat\"   \n",
       "11          \"clause\"      \"carolina\"        \"plan\"           \"'neill\"   \n",
       "12  \"first_appeared\"        \"postal\"       \"brown\"           \"deccan\"   \n",
       "13    \"foreign_firm\"  \"khodorkovsky\"     \"economy\"          \"xstrata\"   \n",
       "14          \"mittal\"         \"union\"         \"say\"          \"cantona\"   \n",
       "\n",
       "         topic_4    topic_5               topic_6            topic_7  \\\n",
       "0       \"people\"     \"best\"           \"workplace\"              \"lse\"   \n",
       "1          \"new\"    \"first\"            \"guinness\"           \"boerse\"   \n",
       "2         \"game\"     \"film\"                 \"/or\"  \"deutsche_boerse\"   \n",
       "3          \"one\"     \"year\"              \"diageo\"         \"deutsche\"   \n",
       "4        \"would\"      \"win\"           \"residency\"         \"euronext\"   \n",
       "5         \"also\"  \"england\"                 \"fao\"              \"tci\"   \n",
       "6         \"year\"     \"game\"      \"pension_system\"     \"london_stock\"   \n",
       "7   \"technology\"     \"last\"             \"chateau\"       \"expectancy\"   \n",
       "8      \"service\"      \"two\"      \"working_people\"          \"seifert\"   \n",
       "9        \"could\"    \"award\"             \"chalone\"            \"furse\"   \n",
       "10      \"mobile\"   \"second\"    \"length_residency\"  \"life_expectancy\"   \n",
       "11       \"phone\"     \"time\"     \"rather_national\"      \"clearstream\"   \n",
       "12       \"music\"     \"play\"  \"pension_commission\"       \"bombardier\"   \n",
       "13        \"time\"    \"match\"       \"wine_business\"           \"hardie\"   \n",
       "14         \"get\"    \"world\"         \"year_ending\"        \"offer_lse\"   \n",
       "\n",
       "       topic_8               topic_9  \n",
       "0    \"company\"              \"kronor\"  \n",
       "1       \"firm\"               \"libya\"  \n",
       "2   \"security\"           \"high_fuel\"  \n",
       "3        \"law\"   \"higher_healthcare\"  \n",
       "4   \"software\"           \"chevrolet\"  \n",
       "5      \"virus\"    \"expects_earnings\"  \n",
       "6    \"machine\"   \"european_business\"  \n",
       "7      \"legal\"          \"year_lower\"  \n",
       "8    \"program\"               \"buick\"  \n",
       "9      \"would\"  \"service_subsidiary\"  \n",
       "10     \"court\"          \"cost_north\"  \n",
       "11      \"anti\"       \"america_lower\"  \n",
       "12      \"case\"           \"weak_sale\"  \n",
       "13      \"lord\"    \"profit_financial\"  \n",
       "14      \"file\"      \"grappling_loss\"  "
      ]
     },
     "execution_count": 95,
     "metadata": {},
     "output_type": "execute_result"
    }
   ],
   "source": [
    "df_"
   ]
  },
  {
   "cell_type": "code",
   "execution_count": 85,
   "id": "a7c2bf6a",
   "metadata": {},
   "outputs": [
    {
     "data": {
      "text/html": [
       "<div>\n",
       "<style scoped>\n",
       "    .dataframe tbody tr th:only-of-type {\n",
       "        vertical-align: middle;\n",
       "    }\n",
       "\n",
       "    .dataframe tbody tr th {\n",
       "        vertical-align: top;\n",
       "    }\n",
       "\n",
       "    .dataframe thead th {\n",
       "        text-align: right;\n",
       "    }\n",
       "</style>\n",
       "<table border=\"1\" class=\"dataframe\">\n",
       "  <thead>\n",
       "    <tr style=\"text-align: right;\">\n",
       "      <th></th>\n",
       "      <th>topic_0</th>\n",
       "    </tr>\n",
       "  </thead>\n",
       "  <tbody>\n",
       "    <tr>\n",
       "      <th>0</th>\n",
       "      <td>\"peel\"</td>\n",
       "    </tr>\n",
       "    <tr>\n",
       "      <th>1</th>\n",
       "      <td>\"teach\"</td>\n",
       "    </tr>\n",
       "    <tr>\n",
       "      <th>2</th>\n",
       "      <td>\"carroll\"</td>\n",
       "    </tr>\n",
       "    <tr>\n",
       "      <th>3</th>\n",
       "      <td>\"listing\"</td>\n",
       "    </tr>\n",
       "    <tr>\n",
       "      <th>4</th>\n",
       "      <td>\"fannie\"</td>\n",
       "    </tr>\n",
       "    <tr>\n",
       "      <th>5</th>\n",
       "      <td>\"mae\"</td>\n",
       "    </tr>\n",
       "    <tr>\n",
       "      <th>6</th>\n",
       "      <td>\"fannie_mae\"</td>\n",
       "    </tr>\n",
       "    <tr>\n",
       "      <th>7</th>\n",
       "      <td>\"digby\"</td>\n",
       "    </tr>\n",
       "    <tr>\n",
       "      <th>8</th>\n",
       "      <td>\"outweigh\"</td>\n",
       "    </tr>\n",
       "    <tr>\n",
       "      <th>9</th>\n",
       "      <td>\"sec\"</td>\n",
       "    </tr>\n",
       "    <tr>\n",
       "      <th>10</th>\n",
       "      <td>\"obliges\"</td>\n",
       "    </tr>\n",
       "    <tr>\n",
       "      <th>11</th>\n",
       "      <td>\"clause\"</td>\n",
       "    </tr>\n",
       "    <tr>\n",
       "      <th>12</th>\n",
       "      <td>\"first_appeared\"</td>\n",
       "    </tr>\n",
       "    <tr>\n",
       "      <th>13</th>\n",
       "      <td>\"foreign_firm\"</td>\n",
       "    </tr>\n",
       "    <tr>\n",
       "      <th>14</th>\n",
       "      <td>\"mittal\"</td>\n",
       "    </tr>\n",
       "  </tbody>\n",
       "</table>\n",
       "</div>"
      ],
      "text/plain": [
       "             topic_0\n",
       "0             \"peel\"\n",
       "1            \"teach\"\n",
       "2          \"carroll\"\n",
       "3          \"listing\"\n",
       "4           \"fannie\"\n",
       "5              \"mae\"\n",
       "6       \"fannie_mae\"\n",
       "7            \"digby\"\n",
       "8         \"outweigh\"\n",
       "9              \"sec\"\n",
       "10         \"obliges\"\n",
       "11          \"clause\"\n",
       "12  \"first_appeared\"\n",
       "13    \"foreign_firm\"\n",
       "14          \"mittal\""
      ]
     },
     "execution_count": 85,
     "metadata": {},
     "output_type": "execute_result"
    }
   ],
   "source": [
    "df"
   ]
  },
  {
   "cell_type": "code",
   "execution_count": null,
   "id": "21286a04",
   "metadata": {},
   "outputs": [],
   "source": []
  },
  {
   "cell_type": "code",
   "execution_count": null,
   "id": "d1df7555",
   "metadata": {},
   "outputs": [],
   "source": []
  },
  {
   "cell_type": "code",
   "execution_count": null,
   "id": "5c55769b",
   "metadata": {},
   "outputs": [],
   "source": []
  },
  {
   "cell_type": "code",
   "execution_count": 68,
   "id": "cc5d82e6",
   "metadata": {},
   "outputs": [],
   "source": [
    "# test article from business categories\n",
    "bow_test_doc = word_to_ID.doc2bow(sport_hold_out_4)\n",
    "\n",
    "# topic assigned by model\n",
    "alocated_topics_1 =  lda.get_document_topics(bow_test_doc)\n",
    "\n",
    "df_tech = pd.DataFrame(alocated_topics_1,columns=['topics','Business_test'])"
   ]
  },
  {
   "cell_type": "code",
   "execution_count": 96,
   "id": "2bc5c0df",
   "metadata": {},
   "outputs": [
    {
     "data": {
      "text/html": [
       "<div>\n",
       "<style scoped>\n",
       "    .dataframe tbody tr th:only-of-type {\n",
       "        vertical-align: middle;\n",
       "    }\n",
       "\n",
       "    .dataframe tbody tr th {\n",
       "        vertical-align: top;\n",
       "    }\n",
       "\n",
       "    .dataframe thead th {\n",
       "        text-align: right;\n",
       "    }\n",
       "</style>\n",
       "<table border=\"1\" class=\"dataframe\">\n",
       "  <thead>\n",
       "    <tr style=\"text-align: right;\">\n",
       "      <th></th>\n",
       "      <th>topics</th>\n",
       "      <th>Business_test</th>\n",
       "    </tr>\n",
       "  </thead>\n",
       "  <tbody>\n",
       "    <tr>\n",
       "      <th>0</th>\n",
       "      <td>4</td>\n",
       "      <td>0.258724</td>\n",
       "    </tr>\n",
       "    <tr>\n",
       "      <th>1</th>\n",
       "      <td>5</td>\n",
       "      <td>0.695285</td>\n",
       "    </tr>\n",
       "    <tr>\n",
       "      <th>2</th>\n",
       "      <td>8</td>\n",
       "      <td>0.032816</td>\n",
       "    </tr>\n",
       "  </tbody>\n",
       "</table>\n",
       "</div>"
      ],
      "text/plain": [
       "   topics  Business_test\n",
       "0       4       0.258724\n",
       "1       5       0.695285\n",
       "2       8       0.032816"
      ]
     },
     "execution_count": 96,
     "metadata": {},
     "output_type": "execute_result"
    }
   ],
   "source": [
    "df_tech"
   ]
  },
  {
   "cell_type": "code",
   "execution_count": null,
   "id": "991abc99",
   "metadata": {},
   "outputs": [],
   "source": [
    "genre = st.radio(\n",
    "     \"What's your favorite movie genre\",     ('Comedy', 'Drama', 'Documentary'))\n",
    "\n",
    "if genre == 'Comedy':\n",
    "     st.write('You selected comedy.')\n",
    " else:\n",
    "     st.write(\"You didn't select comedy.\")"
   ]
  },
  {
   "cell_type": "code",
   "execution_count": null,
   "id": "319e07f2",
   "metadata": {},
   "outputs": [],
   "source": []
  },
  {
   "cell_type": "code",
   "execution_count": 136,
   "id": "4ff4dc66",
   "metadata": {},
   "outputs": [],
   "source": [
    "# test article from business categories\n",
    "bow_test_doc__ = loaded_dct.doc2bow(sport_hold_out_4)\n",
    "\n",
    "# topic assigned by model\n",
    "alocated_topics_1 =  model_test.get_document_topics(bow_test_doc__)\n",
    "\n",
    "df_tech_copy = pd.DataFrame(alocated_topics_1,columns=['topics','Business_test'])"
   ]
  },
  {
   "cell_type": "code",
   "execution_count": 137,
   "id": "dae66b79",
   "metadata": {},
   "outputs": [
    {
     "data": {
      "text/html": [
       "<div>\n",
       "<style scoped>\n",
       "    .dataframe tbody tr th:only-of-type {\n",
       "        vertical-align: middle;\n",
       "    }\n",
       "\n",
       "    .dataframe tbody tr th {\n",
       "        vertical-align: top;\n",
       "    }\n",
       "\n",
       "    .dataframe thead th {\n",
       "        text-align: right;\n",
       "    }\n",
       "</style>\n",
       "<table border=\"1\" class=\"dataframe\">\n",
       "  <thead>\n",
       "    <tr style=\"text-align: right;\">\n",
       "      <th></th>\n",
       "      <th>topics</th>\n",
       "      <th>Business_test</th>\n",
       "    </tr>\n",
       "  </thead>\n",
       "  <tbody>\n",
       "    <tr>\n",
       "      <th>0</th>\n",
       "      <td>4</td>\n",
       "      <td>0.316840</td>\n",
       "    </tr>\n",
       "    <tr>\n",
       "      <th>1</th>\n",
       "      <td>5</td>\n",
       "      <td>0.608580</td>\n",
       "    </tr>\n",
       "    <tr>\n",
       "      <th>2</th>\n",
       "      <td>8</td>\n",
       "      <td>0.070531</td>\n",
       "    </tr>\n",
       "  </tbody>\n",
       "</table>\n",
       "</div>"
      ],
      "text/plain": [
       "   topics  Business_test\n",
       "0       4       0.316840\n",
       "1       5       0.608580\n",
       "2       8       0.070531"
      ]
     },
     "execution_count": 137,
     "metadata": {},
     "output_type": "execute_result"
    }
   ],
   "source": [
    "df_tech_copy"
   ]
  },
  {
   "cell_type": "code",
   "execution_count": 128,
   "id": "fa2f5601",
   "metadata": {},
   "outputs": [],
   "source": [
    "# test article from business categories\n",
    "bow_test_doc = loaded_dct.doc2bow(entertainment_hold_out_2)\n",
    "\n",
    "# topic assigned by model\n",
    "alocated_topics_1 =  model_test.get_document_topics(bow_test_doc)\n",
    "\n",
    "df_1_ = pd.DataFrame(alocated_topics_1,columns=['topics','Business_test'])"
   ]
  },
  {
   "cell_type": "code",
   "execution_count": 129,
   "id": "e9f1f5b2",
   "metadata": {},
   "outputs": [
    {
     "data": {
      "text/html": [
       "<div>\n",
       "<style scoped>\n",
       "    .dataframe tbody tr th:only-of-type {\n",
       "        vertical-align: middle;\n",
       "    }\n",
       "\n",
       "    .dataframe tbody tr th {\n",
       "        vertical-align: top;\n",
       "    }\n",
       "\n",
       "    .dataframe thead th {\n",
       "        text-align: right;\n",
       "    }\n",
       "</style>\n",
       "<table border=\"1\" class=\"dataframe\">\n",
       "  <thead>\n",
       "    <tr style=\"text-align: right;\">\n",
       "      <th></th>\n",
       "      <th>topics</th>\n",
       "      <th>Business_test</th>\n",
       "    </tr>\n",
       "  </thead>\n",
       "  <tbody>\n",
       "    <tr>\n",
       "      <th>0</th>\n",
       "      <td>2</td>\n",
       "      <td>0.420440</td>\n",
       "    </tr>\n",
       "    <tr>\n",
       "      <th>1</th>\n",
       "      <td>4</td>\n",
       "      <td>0.484395</td>\n",
       "    </tr>\n",
       "    <tr>\n",
       "      <th>2</th>\n",
       "      <td>5</td>\n",
       "      <td>0.059793</td>\n",
       "    </tr>\n",
       "    <tr>\n",
       "      <th>3</th>\n",
       "      <td>8</td>\n",
       "      <td>0.029953</td>\n",
       "    </tr>\n",
       "  </tbody>\n",
       "</table>\n",
       "</div>"
      ],
      "text/plain": [
       "   topics  Business_test\n",
       "0       2       0.420440\n",
       "1       4       0.484395\n",
       "2       5       0.059793\n",
       "3       8       0.029953"
      ]
     },
     "execution_count": 129,
     "metadata": {},
     "output_type": "execute_result"
    }
   ],
   "source": [
    "df_1_"
   ]
  },
  {
   "cell_type": "markdown",
   "id": "277cfbd4",
   "metadata": {},
   "source": [
    "### VISUALIZATION"
   ]
  },
  {
   "cell_type": "code",
   "execution_count": 139,
   "id": "fbb6cb8a",
   "metadata": {},
   "outputs": [],
   "source": [
    "import pyLDAvis.gensim_models"
   ]
  },
  {
   "cell_type": "code",
   "execution_count": 140,
   "id": "5ccb7a94",
   "metadata": {},
   "outputs": [
    {
     "name": "stderr",
     "output_type": "stream",
     "text": [
      "C:\\Users\\Vinoth Sundaram\\anaconda3\\envs\\topic_modelling\\lib\\site-packages\\ipykernel\\ipkernel.py:287: DeprecationWarning: `should_run_async` will not call `transform_cell` automatically in the future. Please pass the result to `transformed_cell` argument and any exception that happen during thetransform in `preprocessing_exc_tuple` in IPython 7.17 and above.\n",
      "  and should_run_async(code)\n"
     ]
    }
   ],
   "source": [
    "pyLDAvis.enable_notebook()\n",
    "\n",
    "import warnings\n",
    "warnings.filterwarnings(\"ignore\", category=DeprecationWarning)"
   ]
  },
  {
   "cell_type": "code",
   "execution_count": 141,
   "id": "2a8f3dc6",
   "metadata": {},
   "outputs": [
    {
     "data": {
      "text/html": [
       "\n",
       "<link rel=\"stylesheet\" type=\"text/css\" href=\"https://cdn.jsdelivr.net/gh/bmabey/pyLDAvis@3.3.1/pyLDAvis/js/ldavis.v1.0.0.css\">\n",
       "\n",
       "\n",
       "<div id=\"ldavis_el22392175531415041626591687\"></div>\n",
       "<script type=\"text/javascript\">\n",
       "\n",
       "var ldavis_el22392175531415041626591687_data = {\"mdsDat\": {\"x\": [-0.32509286980133045, -0.23379468471287929, -0.21702984241344445, -0.132474596286782, 0.16328416862471604, 0.15358243464398627, 0.15073668164090898, 0.1491937698476107, 0.1459716528909067, 0.14562328556630724], \"y\": [-0.007940065507701771, 0.25309720175574246, -0.08808723176013253, -0.21550422473329198, 0.014560493982268096, 0.0101834957387351, 0.008717340420478573, 0.008416941373749197, 0.008324516019763854, 0.008231532710388388], \"topics\": [1, 2, 3, 4, 5, 6, 7, 8, 9, 10], \"cluster\": [1, 1, 1, 1, 1, 1, 1, 1, 1, 1], \"Freq\": [45.23357845185076, 24.264564051810083, 19.126054393397084, 9.854010731719642, 0.7530901669718723, 0.25382308546419624, 0.21900311918478724, 0.17182136837541234, 0.062156556539364825, 0.06189807468680329]}, \"tinfo\": {\"Term\": [\"government\", \"labour\", \"firm\", \"election\", \"company\", \"party\", \"people\", \"minister\", \"blair\", \"software\", \"best\", \"win\", \"would\", \"tory\", \"film\", \"security\", \"tax\", \"technology\", \"england\", \"law\", \"mobile\", \"virus\", \"game\", \"phone\", \"machine\", \"award\", \"program\", \"music\", \"brown\", \"country\", \"technology\", \"mobile\", \"phone\", \"music\", \"net\", \"digital\", \"video\", \"site\", \"online\", \"device\", \"broadband\", \"content\", \"search\", \"research\", \"gadget\", \"access\", \"different\", \"version\", \"web\", \"let\", \"sony\", \"dvd\", \"camera\", \"gaming\", \"customer\", \"cup\", \"image\", \"injury\", \"console\", \"website\", \"system\", \"people\", \"medium\", \"using\", \"industry\", \"service\", \"user\", \"many\", \"use\", \"used\", \"radio\", \"work\", \"around\", \"network\", \"data\", \"like\", \"computer\", \"get\", \"new\", \"want\", \"one\", \"game\", \"could\", \"million\", \"high\", \"also\", \"would\", \"year\", \"time\", \"say\", \"world\", \"player\", \"number\", \"award\", \"match\", \"wale\", \"champion\", \"rugby\", \"victory\", \"williams\", \"league\", \"chelsea\", \"saturday\", \"winner\", \"actor\", \"football\", \"grand\", \"championship\", \"oscar\", \"squad\", \"liverpool\", \"robinson\", \"arsenal\", \"roddick\", \"irish\", \"andy\", \"captain\", \"career\", \"defeat\", \"slam\", \"seed\", \"actress\", \"six_nation\", \"star\", \"olympic\", \"ireland\", \"win\", \"best\", \"coach\", \"season\", \"england\", \"-year-old\", \"club\", \"side\", \"scotland\", \"final\", \"team\", \"film\", \"played\", \"winning\", \"minute\", \"first\", \"second\", \"six\", \"play\", \"great\", \"two\", \"last\", \"year\", \"three\", \"game\", \"world\", \"time\", \"player\", \"top\", \"one\", \"also\", \"week\", \"labour\", \"election\", \"tory\", \"tax\", \"economy\", \"prime\", \"economic\", \"chancellor\", \"conservative\", \"prime_minister\", \"lib\", \"liberal\", \"democrat\", \"pension\", \"tony_blair\", \"liberal_democrat\", \"reform\", \"general_election\", \"dems\", \"michael_howard\", \"asylum\", \"export\", \"lib_dems\", \"dem\", \"economist\", \"milburn\", \"gordon_brown\", \"parliamentary\", \"lib_dem\", \"tory_leader\", \"blair\", \"minister\", \"government\", \"party\", \"debt\", \"immigration\", \"china\", \"budget\", \"brown\", \"political\", \"policy\", \"secretary\", \"howard\", \"leader\", \"growth\", \"tony\", \"country\", \"plan\", \"foreign\", \"bank\", \"would\", \"rate\", \"public\", \"general\", \"year\", \"rise\", \"cut\", \"say\", \"price\", \"also\", \"market\", \"told\", \"virus\", \"criminal\", \"malicious\", \"storage\", \"p2p\", \"-virus\", \"lawsuit\", \"infected\", \"fraud\", \"lawyer\", \"bittorrent\", \"worm\", \"guilty\", \"investigation\", \"pirated\", \"filed\", \"shareholder\", \"hacker\", \"arrest\", \"kenteris\", \"printer\", \"sentence\", \"iaaf\", \"attorney\", \"takeover\", \"commodore\", \"peer_-to-peer\", \"thanou\", \"anti_-virus\", \"alleged\", \"legal\", \"patent\", \"machine\", \"phishing\", \"law\", \"security\", \"anti\", \"court\", \"program\", \"case\", \"police\", \"illegal\", \"ban\", \"window\", \"-mail\", \"drug\", \"software\", \"lord\", \"company\", \"firm\", \"statement\", \"bill\", \"file\", \"charge\", \"action\", \"microsoft\", \"would\", \"trial\", \"right\", \"could\", \"decision\", \"told\", \"yukos\", \"gazprom\", \"wong\", \"rosneft\", \"yugansk\", \"boeing\", \"carolina\", \"postal\", \"khodorkovsky\", \"cyprus\", \"baikal\", \"yuganskneftegas\", \"mock\", \"(us)\", \"putin\", \"rocket\", \"gateshead\", \"faroe\", \"-ordinate\", \"wto\", \"five_six\", \"early_stage\", \"hansard\", \"hansard_society\", \"airbus\", \"amicus\", \"absent\", \"cannot_afford\", \"commonwealth\", \"vladimir\", \"bmw\", \"russian\", \"gas\", \"russia\", \"auction\", \"oil\", \"hong\", \"switzerland\", \"republic\", \"kong\", \"unit\", \"union\", \"choice\", \"strike\", \"tournament\", \"mourinho\", \"celtic\", \"norway\", \"juninho\", \"sponsorship\", \"wmc\", \"blip\", \"positive_result\", \"one_another\", \"bat\", \"'neill\", \"deccan\", \"xstrata\", \"cantona\", \"ufj\", \"notified\", \"widened\", \"phytopharm\", \"lvmh\", \"hassell\", \"minister_would\", \"sumitomo\", \"pernod\", \"revealing\", \"solskjaer\", \"given_backing\", \"wednesday_night\", \"atr\", \"quo\", \"peel\", \"teach\", \"carroll\", \"fannie\", \"mae\", \"fannie_mae\", \"digby\", \"outweigh\", \"obliges\", \"first_appeared\", \"mittal\", \"bdo\", \"bank_china\", \"cadbury\", \"would_raise\", \"metlife\", \"senior_executive\", \"rossignol\", \"donaldson\", \"sarbanes\", \"internal_control\", \"digby_jones\", \"confederation\", \"-oxley\", \"infant\", \"act_come\", \"mittal_steel\", \"apacs\", \"compliance_cost\", \"cadbury_schweppes\", \"restate\", \"clause\", \"foreign_firm\", \"listing\", \"sec\", \"plastic\", \"implementation\", \"teacher\", \"lse\", \"boerse\", \"deutsche_boerse\", \"euronext\", \"tci\", \"expectancy\", \"seifert\", \"furse\", \"life_expectancy\", \"clearstream\", \"bombardier\", \"hardie\", \"offer_lse\", \"atticus\", \"talk_lse\", \"liffe\", \"asbestos\", \"cash_bid\", \"werner\", \"bid_lse\", \"tellier\", \"deflation\", \"\\u00a31.3bn_offer\", \"lse_euronext\", \"bourse\", \"(lse)\", \"exchange_(lse)\", \"create_biggest\", \"clara_furse\", \"london_exchange\", \"london_stock\", \"deutsche\", \"derivative\", \"workplace\", \"guinness\", \"/or\", \"residency\", \"diageo\", \"fao\", \"chateau\", \"working_people\", \"chalone\", \"length_residency\", \"rather_national\", \"pension_system\", \"pension_commission\", \"wine_business\", \"$260\", \"$69.4\", \"(\\u00a3134m)\", \"-cash\", \"company_agreed\", \"menezes\", \"smirnoff\", \"wine_market\", \"winemaking\", \"\\u00a38.89bn,\", \"\\u00a39.28bn\", \"deal_although\", \"stout\", \"reported_annual\", \"year_ending\", \"reported_revenue\", \"brand_include\", \"kronor\", \"libya\", \"high_fuel\", \"higher_healthcare\", \"chevrolet\", \"expects_earnings\", \"european_business\", \"america_lower\", \"buick\", \"cost_north\", \"grappling_loss\", \"profit_financial\", \"service_subsidiary\", \"weak_sale\", \"year_lower\", \"$160\", \"$160_telecom\", \"$180_,000\", \"darling_late\", \"ebbers_accused\", \"face_substantial\", \"finally_collapsed\", \"firmly_declared\", \"job_ebbers\", \"mastermind_behind\", \"american_airline\", \"calyon_security\", \"neidl\", \"ray_neidl\", \"braking_system\"], \"Freq\": [1360.0, 994.0, 1118.0, 896.0, 1113.0, 964.0, 2587.0, 870.0, 750.0, 741.0, 987.0, 919.0, 2892.0, 652.0, 1179.0, 547.0, 622.0, 1265.0, 836.0, 459.0, 1174.0, 390.0, 2236.0, 1112.0, 387.0, 583.0, 399.0, 1042.0, 575.0, 902.0, 1265.4576767519038, 1173.6249123827859, 1112.2772095137684, 1042.425936650969, 816.9864354144598, 761.6340665481197, 629.8890290936727, 608.9174885213234, 604.0950088521931, 530.7207227612156, 470.13015402655475, 420.59473398582503, 405.4725160774401, 403.52435062382006, 385.9091591244065, 384.0525680712413, 370.21897309163955, 357.95552494201416, 355.47646614694787, 354.4193804086372, 349.38598502593345, 346.0081056268129, 331.35366304395495, 308.79345391997686, 307.6057759411818, 299.788512516723, 297.2138051692308, 274.3181366398902, 253.35231555011563, 551.9691803090677, 832.4801219637044, 2443.298020160147, 500.0657377842955, 488.47248763389257, 504.08701979852185, 1251.5683285695611, 862.9334050784316, 919.5760892136045, 790.3864852338639, 681.0143085919921, 425.9060805518397, 758.0398496793413, 483.37713380159977, 650.219172787271, 498.45262432084087, 910.821676816934, 723.4993146280888, 990.2918971246407, 1541.485985691049, 746.8805593931064, 1464.785373893199, 1511.5660404089508, 1231.7525308924808, 706.4134494885942, 615.1117664987056, 1374.196040705617, 1400.3547288881277, 1338.896710519589, 1004.1530396394922, 886.8733727768202, 810.0444565315154, 756.1865492873834, 704.4451326525332, 582.7258704279398, 540.1990644789503, 512.5796521378876, 374.6276060823271, 322.80197840206256, 311.32186979906805, 290.90714292367267, 261.10054288860175, 254.51198060260026, 251.4028356574786, 249.3274946036056, 241.16144582572804, 224.37970897385725, 213.910977775122, 209.88676827728696, 204.5476840966173, 204.36386759830995, 198.75628759776953, 198.37678571073914, 194.55036303406618, 188.66900841536813, 182.61330215006814, 166.23868841320643, 165.31419263170667, 227.24377646220876, 157.3214700014008, 154.71465146650633, 148.64769833479264, 148.4764063738219, 143.74993177778003, 449.5856339369054, 184.86091022956356, 448.0247571670275, 866.2327769888981, 926.190780093637, 350.2619172381917, 351.0114729720066, 780.6359532111582, 319.4226733025784, 444.34055943782846, 488.0896929850374, 292.3281147274894, 421.5208860333622, 532.7158803750024, 895.9657260198458, 335.28334391068995, 249.39889287215428, 352.89237268516047, 924.9618624032887, 568.6336308688449, 443.4677084599505, 552.6429404328653, 358.96806777582054, 695.6943728793692, 703.007828488081, 891.7860609559006, 495.3217138838717, 724.3542128267285, 536.347525481766, 563.195964289595, 497.5462734523758, 401.61890867309165, 522.5222855226452, 517.3194077869441, 416.46282220989997, 994.0641058468843, 896.4664121807234, 652.1095695870976, 622.5634228160955, 440.0340735038994, 403.5301489315224, 358.95788205139115, 343.6450834326804, 316.56807690607855, 282.1566112749047, 228.2708574316469, 218.48661822423423, 212.0180119667812, 177.8337662858614, 177.6328634068854, 157.45951639409571, 145.16826474202466, 141.72518083962186, 131.91205380975896, 125.75774176004631, 120.21159788067881, 111.53405380159262, 107.01886727568272, 100.02123620549182, 99.9151132118714, 90.28400596603424, 90.17407985083437, 86.74272996989014, 83.28314157993607, 80.65289872019709, 744.8960891832388, 823.5407210631215, 1269.2359331818118, 901.007153828466, 183.02252274711782, 167.6733758270397, 364.68175229530095, 260.02596852687157, 522.772321845692, 253.77917569143415, 308.66367961637656, 310.525035977978, 390.4076833166833, 389.82687906989764, 355.9591670655229, 242.71898256846723, 596.3841119977811, 528.2127203933381, 279.70986571855076, 321.8639568337054, 1044.3641123489783, 327.1699872530739, 398.3087942852992, 318.4007839685344, 790.756063877325, 296.3665841433419, 309.9746036986492, 439.5561788117689, 318.07917504611856, 425.85288244755475, 345.07192984100556, 328.24829810814884, 389.85877685246305, 143.9850729967949, 128.00811450713203, 128.04476319785869, 114.9810752218589, 99.45420334474323, 98.94335418609562, 97.88214655933037, 97.82105630511614, 95.84674463726616, 86.85380588737584, 80.43230395219337, 78.49424499443249, 74.9511126587934, 74.60279307008585, 67.86536685869542, 66.87742930437398, 65.79076285351789, 63.78096995509667, 58.22159296754593, 57.19653564208425, 57.173370774790016, 55.36851833803647, 52.59236977461538, 52.366186317195854, 52.16830523447962, 51.01700859905504, 50.71977051258606, 49.998836557609344, 49.639931314100814, 329.04936849177165, 162.77799999933177, 365.9479366551783, 59.97490647615205, 406.26157838150425, 450.21796888281216, 295.1054713004048, 300.2162704981823, 319.8855572695441, 277.2531621660072, 173.22239894875653, 110.05859895347848, 115.32224667733419, 198.94065862968628, 179.26581447489463, 132.3816933394022, 389.89425125578185, 233.3165160785557, 472.77919783143057, 453.4307099944695, 171.7527509489062, 183.12840077621738, 201.03045327138892, 141.9544433241379, 182.43431499118898, 183.07049202160798, 306.4306540781908, 125.28318057737076, 158.78711597145633, 155.17013324692192, 135.72834417906105, 132.054312933716, 40.63267131794872, 15.858602168794556, 13.278626353623885, 10.934824945262601, 10.516350026685986, 10.198156355772685, 9.429131705583176, 9.396697379239757, 8.786251445944771, 7.508178699975507, 6.430978381282428, 6.221134624139948, 5.970746654640797, 5.590748170110968, 5.445918639752842, 5.18946664817005, 5.168701207550132, 4.935163309395763, 4.9306145101765955, 4.900138912012662, 4.888578032877642, 4.85621675446846, 4.432027400350627, 4.432027400350627, 6.40035668725002, 4.1166364221427365, 4.0203876813348165, 3.9527739916335207, 3.887931688380104, 3.8321168053710597, 6.387550340836248, 25.1625025830046, 12.01803084769193, 17.207695247055383, 11.339033602282612, 18.57000791432938, 7.45459647489934, 6.525308309389214, 6.945770653548053, 6.197539097839281, 7.36038081463254, 7.566110929535525, 5.78760870048463, 5.338548090071765, 19.23611520693564, 11.34480436953599, 9.064886790473947, 3.991264743868664, 3.578801350970992, 2.3356516215183722, 1.679557173941809, 1.5773886769415362, 1.3167664111525497, 1.245314287192065, 1.1928229926283707, 1.1425238656318908, 1.1384280268188303, 1.0972280966599435, 1.067337820218526, 1.0028337885525223, 0.9987891246431608, 0.8569386225055735, 0.8422331358313107, 0.8241383229749516, 0.8221169142788428, 0.7944628580279268, 0.7783320359774439, 0.7652819079578831, 0.7463660104782579, 0.7446803161847653, 0.7374646547632123, 0.697733541062812, 0.6395374317834194, 0.6201185342408906, 4.578560128614797, 2.9220053923029172, 2.7761291277568163, 1.3548674162586822, 1.3548674162586822, 1.2813709024547197, 1.0172795019182965, 0.9576039931431888, 0.8244991887755843, 0.8059399067748394, 0.764976855586198, 0.7491959010370198, 0.7092682075592964, 0.6926847312935438, 0.6647967602408322, 0.601023330378571, 0.5369369109774814, 0.528532434399641, 0.5104012322614194, 0.509245245931731, 0.4639537516067956, 0.43103037025803387, 0.4309538962657568, 0.418294946931057, 0.41570378350622417, 0.39789080573368335, 0.3806170909939854, 0.38047601620366867, 0.34512303032546504, 0.3257324729939861, 0.5209367385704811, 0.8184733719991957, 0.798618660020146, 1.817216124432329, 0.941022337686776, 0.5185743522525049, 0.47162102800313155, 0.44527786194123936, 4.613372482151736, 4.259236375726444, 3.6840432912266508, 2.4011058381180317, 0.8962285118471799, 0.6038352415965437, 0.571815369435851, 0.5422338900590848, 0.5147785491933243, 0.4983641884737555, 0.49556699493550804, 0.42282282050291214, 0.3802813305022366, 0.380109727553546, 0.3655027928965735, 0.3653952657627512, 0.36376173425950264, 0.32114593059894503, 0.3210664384942012, 0.30603659750686213, 0.3056167268165868, 0.2955142653986225, 0.27699093836738803, 0.26229671417720196, 0.26201097711331384, 0.26139414695123236, 0.26139414695123236, 0.2597355565366419, 0.24748235899457918, 0.24735919236205126, 0.6041851139976548, 3.482512026398237, 0.30168533480893256, 0.8559145689228177, 0.5207708982588757, 0.44867520687485196, 0.17219872244777504, 0.18124973803089084, 0.13338533621135845, 0.07656829976394419, 0.07355737743668839, 0.07063664303479864, 0.06550939434261291, 0.06550939434261291, 0.1001672941324526, 0.047732344389361706, 0.044596271108492715, 0.026242807590703417, 0.026242807590703417, 0.026242807590703417, 0.026242807590703417, 0.026242807590703417, 0.026242807590703417, 0.026242807590703417, 0.026242807590703417, 0.026242807590703417, 0.026242807590703417, 0.026242807590703417, 0.02624340241974442, 0.02624330552451602, 0.02624344010122213, 0.02625215259717563, 0.02624659727074745, 0.026246075113127744, 0.18036575673866534, 0.15268585159489495, 0.09691043832031543, 0.07868852991724533, 0.07578640119082265, 0.07154512574851477, 0.07130193839030856, 0.053617647466950615, 0.053617647466950615, 0.053617647466950615, 0.053617647466950615, 0.053617647466950615, 0.053617647466950615, 0.053617647466950615, 0.053617647466950615, 0.05337292695357089, 0.05337292695357089, 0.05337292695357089, 0.05337292695357089, 0.05337292695357089, 0.05337292695357089, 0.05337292695357089, 0.05337292695357089, 0.05337292695357089, 0.05337292695357089, 0.052702396713815436, 0.052702396713815436, 0.052702396713815436, 0.052702396713815436, 0.04798884514987267], \"Total\": [1360.0, 994.0, 1118.0, 896.0, 1113.0, 964.0, 2587.0, 870.0, 750.0, 741.0, 987.0, 919.0, 2892.0, 652.0, 1179.0, 547.0, 622.0, 1265.0, 836.0, 459.0, 1174.0, 390.0, 2236.0, 1112.0, 387.0, 583.0, 399.0, 1042.0, 575.0, 902.0, 1265.9339279277563, 1174.1011434829898, 1112.7534590484413, 1042.9021970075637, 817.4627356415373, 762.1103040106551, 630.3652711544363, 609.3941847036685, 604.5712862056222, 531.1969501095438, 470.6063789303473, 421.07098184409057, 405.9487570479518, 404.0006283474014, 386.3853814269132, 384.52884909533446, 370.695303896421, 358.4318340206044, 355.95272847080446, 354.8956719083313, 349.86222246537096, 346.484348429265, 331.8298939372333, 309.2696882016288, 308.0909187580439, 300.26498689147195, 297.6900706198784, 274.79460459874844, 253.82854502832586, 553.0097479287433, 838.6928861466273, 2587.9885471101725, 507.51429631898986, 495.88375058387965, 513.9029427969144, 1338.1614320203728, 919.6162762315669, 990.6610427861478, 846.3619657817242, 726.0933816578572, 433.5177604531478, 821.3910305628713, 501.4938475037316, 709.0881536836586, 520.652900922236, 1067.6464893666164, 813.4658055809017, 1209.0467524835576, 2136.801936317958, 869.9550780469237, 2136.3743145566787, 2236.2654960359487, 1743.180236147526, 835.26657123739, 694.4792863532809, 2428.013794222568, 2892.629008917191, 3035.7001679279692, 1749.3498975192774, 1440.7762453056102, 1506.5626709113196, 1254.0780642453906, 1068.5210241458167, 583.1628707047578, 540.6367843877409, 513.0168260963184, 375.06462064298313, 323.2389815845029, 311.7588968798189, 291.34416237338957, 261.53766497393565, 254.9489987854225, 251.83992994413046, 249.76451963578944, 241.59845086237212, 224.82579045885763, 214.34861996270487, 210.32376222007787, 204.98466875806724, 204.80086023045456, 199.19331974409906, 198.81380145723858, 194.98736834121513, 189.1061441854428, 183.0503375213704, 166.67572062413245, 165.7512045067709, 227.86652359600546, 157.7585032612926, 155.1517051324131, 149.08469933482468, 148.91339189689242, 144.1869269511044, 455.13991317275634, 186.00561065931663, 459.9426034711504, 919.6906091538492, 987.7396158514225, 360.60712756204003, 361.8799566685929, 836.1484894665182, 331.57069519037157, 481.10590841200553, 540.0778051398719, 305.86406378420367, 464.8093906154275, 610.4199208235774, 1179.169509417697, 370.570418731388, 261.42446593139914, 419.8011572500168, 1672.9198658752196, 852.7309537849075, 620.3473779368375, 894.4058236593904, 462.22161347421576, 1451.5362220945483, 1539.265865222857, 3035.7001679279692, 928.3396911158142, 2236.2654960359487, 1506.5626709113196, 1749.3498975192774, 1254.0780642453906, 682.6447611638116, 2136.3743145566787, 2428.013794222568, 922.0031425128342, 994.4797460168126, 896.8820351486352, 652.5251941213711, 622.979040349311, 440.4496837352714, 403.94746520743473, 359.3735056739528, 344.0607064517676, 316.98371678328357, 282.5722382697824, 228.68648010036864, 218.90226695739986, 212.43365413306014, 178.2493899120839, 178.04849533518, 157.87516062951045, 145.58390256780828, 142.14080123491306, 132.32767116887274, 126.17336877651731, 120.62722589431482, 111.94966117170713, 107.43448100868996, 100.43689196409814, 100.33071993475, 90.69966992330458, 90.5896851993626, 87.1584257946619, 83.69876914517255, 81.06853005952601, 750.6338320567983, 870.0021754397378, 1360.4678775323264, 964.5147483946837, 187.47298614922755, 171.52550708952973, 387.98480608919766, 273.649243952609, 575.9289375649156, 270.3104820070867, 334.8674960765454, 345.01948799426, 449.3898398079632, 464.9978875054341, 450.5881947066766, 276.58853229528773, 902.1229098901754, 779.8126443976498, 334.7549015558072, 414.98328730334026, 2892.629008917191, 442.94810296852165, 639.8426086910928, 428.918349028736, 3035.7001679279692, 376.305207309287, 420.69757661415633, 1440.7762453056102, 481.30830228782827, 2428.013794222568, 876.7542358375003, 1010.5189680044666, 390.34049689733104, 144.4554523298638, 128.47860904881452, 128.51589755651946, 115.45144653759797, 99.92454642434451, 99.41369897712104, 98.3525349788384, 98.2914205004645, 96.31710294334128, 87.3241758315749, 80.90266288746528, 78.96461038929938, 75.42147892040862, 75.07316220022953, 68.33571511791624, 67.34793282879252, 66.2612206732866, 64.25137834172115, 58.691956306103975, 57.66695461792639, 57.64377554857988, 55.83899206858689, 53.062716741673555, 52.83657553342801, 52.63873882761909, 51.4874318214502, 51.190127939858975, 50.46918235536762, 50.110410623623196, 333.59356113052735, 166.7294191041566, 387.47363397563834, 60.80343534771879, 459.00671340394996, 547.1118285298148, 351.32853198823574, 358.07164586543774, 399.8827212087383, 365.16822583116544, 218.32698032854063, 127.21169137222225, 137.97432450274297, 280.69924860916876, 250.2859898998088, 167.3979963087834, 741.5607899543073, 367.84635719916787, 1113.1629410984171, 1118.091588096038, 263.99051630404773, 355.00375285404647, 436.45198371218765, 215.29706581750744, 422.37204712806977, 483.60629177256544, 2892.629008917191, 194.02101842270787, 731.0989556864366, 1743.180236147526, 436.92711659627224, 1010.5189680044666, 41.15816317514266, 16.384089234203774, 13.804200616199976, 11.460315748369027, 11.041843640402693, 10.72365995720067, 9.955440405616017, 9.922709220669915, 9.311744418470695, 8.033734744776016, 6.956463378774547, 6.746623159949589, 6.49666277748007, 6.116421802939057, 5.971416965246049, 5.716564728923793, 5.695132844895124, 5.460663320825145, 5.456546851152841, 5.42571430044034, 5.414924116006352, 5.383044268854824, 4.957604535635435, 4.957604535635435, 7.181031292336239, 4.642182923302912, 4.546910593713874, 4.479443558644204, 4.414207122281841, 4.357633203400384, 10.017856675007943, 106.46325405286383, 30.351488278208745, 79.95780172594282, 42.77811470078319, 194.81792580369816, 24.283060637261478, 21.160794272326402, 46.80469084290123, 29.028088653043696, 102.64311514592495, 281.5606330958863, 182.24111242135723, 87.78184978827517, 19.787978199037884, 11.89618154548865, 9.616177915638948, 4.543469979448279, 4.129947889545632, 2.8873446457738665, 2.230680423171105, 2.1293047971723658, 1.869106423158798, 1.7968844136582423, 1.7441444088200262, 1.6937354427494307, 1.6895383646465536, 1.6483445226337619, 1.6185115025805636, 1.554176504822145, 1.5503624816259465, 1.4083080403072126, 1.39344921537369, 1.3752550222987576, 1.373272027852213, 1.3469239843818956, 1.329575347026279, 1.3163781323142376, 1.2978108299392663, 1.2958315240307723, 1.28928752910483, 1.2494909476094072, 1.1906349691622125, 1.1717766481376108, 5.132298461100018, 3.475364780581214, 3.3297818688193033, 1.907953072044682, 1.907953072044682, 1.834456915535571, 1.5705682573597617, 1.5110678331540761, 1.3776997543377256, 1.359766822810902, 1.3181006749510888, 1.3022718024546807, 1.2624023372062956, 1.2457788109495114, 1.220981343268389, 1.1541198166862139, 1.0902888512749211, 1.0816048190511895, 1.0634689086304292, 1.0623393310819265, 1.0173369038372346, 0.9842523129252504, 0.9845956732347984, 0.9713684778776096, 0.9690320800563788, 0.951158584356803, 0.9337151307673232, 0.9335650701778282, 0.8981908790579191, 0.8788186410948201, 1.6966331812251167, 3.862985998823601, 3.8138747045420383, 19.07518926278054, 17.781193763045852, 8.536583847921522, 8.284913715908191, 70.75565857883697, 5.169389995496012, 4.815246695339186, 4.240053562989175, 2.957118549950731, 1.452237307609897, 1.1599176158971314, 1.1278315528368508, 1.098258310722532, 1.0708118394781994, 1.0543721995232265, 1.0516317967556557, 0.9788676586962322, 0.9362910720484863, 0.9361237435658133, 0.9215146524815228, 0.9214107765425306, 0.9198075803333201, 0.8771599186581446, 0.8770821725514748, 0.8620506208970089, 0.8616432889299389, 0.8519338471697468, 0.8329988889230886, 0.818305187575342, 0.8180288458295921, 0.8174370863051348, 0.8174370863051348, 0.8158146953119261, 0.8034938843120611, 0.8033737369216973, 2.585736728107952, 40.1726074081758, 1.3149405084681764, 1.4197383044967622, 1.0844069667720446, 1.0129874357954047, 0.7362062843177516, 0.8267595268114446, 0.6971315676297398, 0.6402764393693293, 0.6377665596657811, 0.6341289781284122, 0.6292282381327526, 0.6292282381327526, 1.1838147329414066, 0.6112879095521491, 0.6087137020012522, 0.5897440646243338, 0.5897440646243338, 0.5897440646243338, 0.5897440646243338, 0.5897440646243338, 0.5897440646243338, 0.5897440646243338, 0.5897440646243338, 0.5897440646243338, 0.5897440646243338, 0.5897440646243338, 0.5908315623702591, 0.5916318517160849, 0.5916857631342046, 0.5934222978529179, 0.5935756320854918, 0.5939084927217708, 0.7439090436972635, 0.7167378516758094, 0.6609648475043937, 0.6423120157106921, 0.6402647689758973, 0.6354945393035902, 0.6352112483240316, 0.6171230749465093, 0.6171230749465093, 0.6171230749465093, 0.6171230749465093, 0.6171230749465093, 0.6171230749465093, 0.6171230749465093, 0.6171230749465093, 0.616916363893462, 0.616916363893462, 0.616916363893462, 0.616916363893462, 0.616916363893462, 0.616916363893462, 0.616916363893462, 0.616916363893462, 0.616916363893462, 0.616916363893462, 0.6162749638261438, 0.6162749638261438, 0.6162749638261438, 0.6162749638261438, 0.6114910252795783], \"Category\": [\"Default\", \"Default\", \"Default\", \"Default\", \"Default\", \"Default\", \"Default\", \"Default\", \"Default\", \"Default\", \"Default\", \"Default\", \"Default\", \"Default\", \"Default\", \"Default\", \"Default\", \"Default\", \"Default\", \"Default\", \"Default\", \"Default\", \"Default\", \"Default\", \"Default\", \"Default\", \"Default\", \"Default\", \"Default\", \"Default\", \"Topic1\", \"Topic1\", \"Topic1\", \"Topic1\", \"Topic1\", \"Topic1\", \"Topic1\", \"Topic1\", \"Topic1\", \"Topic1\", \"Topic1\", \"Topic1\", \"Topic1\", \"Topic1\", \"Topic1\", \"Topic1\", \"Topic1\", \"Topic1\", \"Topic1\", \"Topic1\", \"Topic1\", \"Topic1\", \"Topic1\", \"Topic1\", \"Topic1\", \"Topic1\", \"Topic1\", \"Topic1\", \"Topic1\", \"Topic1\", \"Topic1\", \"Topic1\", \"Topic1\", \"Topic1\", \"Topic1\", \"Topic1\", \"Topic1\", \"Topic1\", \"Topic1\", \"Topic1\", \"Topic1\", \"Topic1\", \"Topic1\", \"Topic1\", \"Topic1\", \"Topic1\", \"Topic1\", \"Topic1\", \"Topic1\", \"Topic1\", \"Topic1\", \"Topic1\", \"Topic1\", \"Topic1\", \"Topic1\", \"Topic1\", \"Topic1\", \"Topic1\", \"Topic1\", \"Topic1\", \"Topic1\", \"Topic1\", \"Topic1\", \"Topic2\", \"Topic2\", \"Topic2\", \"Topic2\", \"Topic2\", \"Topic2\", \"Topic2\", \"Topic2\", \"Topic2\", \"Topic2\", \"Topic2\", \"Topic2\", \"Topic2\", \"Topic2\", \"Topic2\", \"Topic2\", \"Topic2\", \"Topic2\", \"Topic2\", \"Topic2\", \"Topic2\", \"Topic2\", \"Topic2\", \"Topic2\", \"Topic2\", \"Topic2\", \"Topic2\", \"Topic2\", \"Topic2\", \"Topic2\", \"Topic2\", \"Topic2\", \"Topic2\", \"Topic2\", \"Topic2\", \"Topic2\", \"Topic2\", \"Topic2\", \"Topic2\", \"Topic2\", \"Topic2\", \"Topic2\", \"Topic2\", \"Topic2\", \"Topic2\", \"Topic2\", \"Topic2\", \"Topic2\", \"Topic2\", \"Topic2\", \"Topic2\", \"Topic2\", \"Topic2\", \"Topic2\", \"Topic2\", \"Topic2\", \"Topic2\", \"Topic2\", \"Topic2\", \"Topic2\", \"Topic2\", \"Topic2\", \"Topic2\", \"Topic2\", \"Topic2\", \"Topic3\", \"Topic3\", \"Topic3\", \"Topic3\", \"Topic3\", \"Topic3\", \"Topic3\", \"Topic3\", \"Topic3\", \"Topic3\", \"Topic3\", \"Topic3\", \"Topic3\", \"Topic3\", \"Topic3\", \"Topic3\", \"Topic3\", \"Topic3\", \"Topic3\", \"Topic3\", \"Topic3\", \"Topic3\", \"Topic3\", \"Topic3\", \"Topic3\", \"Topic3\", \"Topic3\", \"Topic3\", \"Topic3\", \"Topic3\", \"Topic3\", \"Topic3\", \"Topic3\", \"Topic3\", \"Topic3\", \"Topic3\", \"Topic3\", \"Topic3\", \"Topic3\", \"Topic3\", \"Topic3\", \"Topic3\", \"Topic3\", \"Topic3\", \"Topic3\", \"Topic3\", \"Topic3\", \"Topic3\", \"Topic3\", \"Topic3\", \"Topic3\", \"Topic3\", \"Topic3\", \"Topic3\", \"Topic3\", \"Topic3\", \"Topic3\", \"Topic3\", \"Topic3\", \"Topic3\", \"Topic3\", \"Topic3\", \"Topic4\", \"Topic4\", \"Topic4\", \"Topic4\", \"Topic4\", \"Topic4\", \"Topic4\", \"Topic4\", \"Topic4\", \"Topic4\", \"Topic4\", \"Topic4\", \"Topic4\", \"Topic4\", \"Topic4\", \"Topic4\", \"Topic4\", \"Topic4\", \"Topic4\", \"Topic4\", \"Topic4\", \"Topic4\", \"Topic4\", \"Topic4\", \"Topic4\", \"Topic4\", \"Topic4\", \"Topic4\", \"Topic4\", \"Topic4\", \"Topic4\", \"Topic4\", \"Topic4\", \"Topic4\", \"Topic4\", \"Topic4\", \"Topic4\", \"Topic4\", \"Topic4\", \"Topic4\", \"Topic4\", \"Topic4\", \"Topic4\", \"Topic4\", \"Topic4\", \"Topic4\", \"Topic4\", \"Topic4\", \"Topic4\", \"Topic4\", \"Topic4\", \"Topic4\", \"Topic4\", \"Topic4\", \"Topic4\", \"Topic4\", \"Topic4\", \"Topic4\", \"Topic4\", \"Topic4\", \"Topic4\", \"Topic4\", \"Topic5\", \"Topic5\", \"Topic5\", \"Topic5\", \"Topic5\", \"Topic5\", \"Topic5\", \"Topic5\", \"Topic5\", \"Topic5\", \"Topic5\", \"Topic5\", \"Topic5\", \"Topic5\", \"Topic5\", \"Topic5\", \"Topic5\", \"Topic5\", \"Topic5\", \"Topic5\", \"Topic5\", \"Topic5\", \"Topic5\", \"Topic5\", \"Topic5\", \"Topic5\", \"Topic5\", \"Topic5\", \"Topic5\", \"Topic5\", \"Topic5\", \"Topic5\", \"Topic5\", \"Topic5\", \"Topic5\", \"Topic5\", \"Topic5\", \"Topic5\", \"Topic5\", \"Topic5\", \"Topic5\", \"Topic5\", \"Topic5\", \"Topic5\", \"Topic6\", \"Topic6\", \"Topic6\", \"Topic6\", \"Topic6\", \"Topic6\", \"Topic6\", \"Topic6\", \"Topic6\", \"Topic6\", \"Topic6\", \"Topic6\", \"Topic6\", \"Topic6\", \"Topic6\", \"Topic6\", \"Topic6\", \"Topic6\", \"Topic6\", \"Topic6\", \"Topic6\", \"Topic6\", \"Topic6\", \"Topic6\", \"Topic6\", \"Topic6\", \"Topic6\", \"Topic6\", \"Topic6\", \"Topic6\", \"Topic7\", \"Topic7\", \"Topic7\", \"Topic7\", \"Topic7\", \"Topic7\", \"Topic7\", \"Topic7\", \"Topic7\", \"Topic7\", \"Topic7\", \"Topic7\", \"Topic7\", \"Topic7\", \"Topic7\", \"Topic7\", \"Topic7\", \"Topic7\", \"Topic7\", \"Topic7\", \"Topic7\", \"Topic7\", \"Topic7\", \"Topic7\", \"Topic7\", \"Topic7\", \"Topic7\", \"Topic7\", \"Topic7\", \"Topic7\", \"Topic7\", \"Topic7\", \"Topic7\", \"Topic7\", \"Topic7\", \"Topic7\", \"Topic7\", \"Topic7\", \"Topic8\", \"Topic8\", \"Topic8\", \"Topic8\", \"Topic8\", \"Topic8\", \"Topic8\", \"Topic8\", \"Topic8\", \"Topic8\", \"Topic8\", \"Topic8\", \"Topic8\", \"Topic8\", \"Topic8\", \"Topic8\", \"Topic8\", \"Topic8\", \"Topic8\", \"Topic8\", \"Topic8\", \"Topic8\", \"Topic8\", \"Topic8\", \"Topic8\", \"Topic8\", \"Topic8\", \"Topic8\", \"Topic8\", \"Topic8\", \"Topic8\", \"Topic8\", \"Topic8\", \"Topic9\", \"Topic9\", \"Topic9\", \"Topic9\", \"Topic9\", \"Topic9\", \"Topic9\", \"Topic9\", \"Topic9\", \"Topic9\", \"Topic9\", \"Topic9\", \"Topic9\", \"Topic9\", \"Topic9\", \"Topic9\", \"Topic9\", \"Topic9\", \"Topic9\", \"Topic9\", \"Topic9\", \"Topic9\", \"Topic9\", \"Topic9\", \"Topic9\", \"Topic9\", \"Topic9\", \"Topic9\", \"Topic9\", \"Topic9\", \"Topic9\", \"Topic10\", \"Topic10\", \"Topic10\", \"Topic10\", \"Topic10\", \"Topic10\", \"Topic10\", \"Topic10\", \"Topic10\", \"Topic10\", \"Topic10\", \"Topic10\", \"Topic10\", \"Topic10\", \"Topic10\", \"Topic10\", \"Topic10\", \"Topic10\", \"Topic10\", \"Topic10\", \"Topic10\", \"Topic10\", \"Topic10\", \"Topic10\", \"Topic10\", \"Topic10\", \"Topic10\", \"Topic10\", \"Topic10\", \"Topic10\"], \"logprob\": [30.0, 29.0, 28.0, 27.0, 26.0, 25.0, 24.0, 23.0, 22.0, 21.0, 20.0, 19.0, 18.0, 17.0, 16.0, 15.0, 14.0, 13.0, 12.0, 11.0, 10.0, 9.0, 8.0, 7.0, 6.0, 5.0, 4.0, 3.0, 2.0, 1.0, -5.36, -5.4354, -5.4891, -5.5539, -5.7976, -5.8678, -6.0577, -6.0915, -6.0995, -6.229, -6.3502, -6.4616, -6.4982, -6.503, -6.5476, -6.5525, -6.5891, -6.6228, -6.6298, -6.6327, -6.6471, -6.6568, -6.7, -6.7706, -6.7744, -6.8002, -6.8088, -6.8889, -6.9684, -6.1897, -5.7788, -4.7021, -6.2885, -6.3119, -6.2805, -5.3711, -5.7429, -5.6793, -5.8307, -5.9796, -6.449, -5.8725, -6.3224, -6.0259, -6.2917, -5.6889, -5.9191, -5.6052, -5.1627, -5.8873, -5.2138, -5.1823, -5.387, -5.943, -6.0814, -5.2776, -5.2587, -5.3036, -5.5913, -5.7155, -5.8061, -5.8749, -5.9458, -5.5127, -5.5885, -5.641, -5.9545, -6.1034, -6.1396, -6.2074, -6.3155, -6.3411, -6.3534, -6.3616, -6.3949, -6.4671, -6.5148, -6.5338, -6.5596, -6.5605, -6.5883, -6.5902, -6.6097, -6.6404, -6.673, -6.767, -6.7726, -6.4544, -6.8221, -6.8388, -6.8788, -6.88, -6.9123, -5.7721, -6.6608, -5.7756, -5.1163, -5.0493, -6.0217, -6.0196, -5.2203, -6.1139, -5.7838, -5.6899, -6.2025, -5.8365, -5.6024, -5.0825, -6.0654, -6.3614, -6.0142, -5.0507, -5.5372, -5.7858, -5.5657, -5.9972, -5.3355, -5.325, -5.0872, -5.6752, -5.2951, -5.5956, -5.5468, -5.6707, -5.8849, -5.6217, -5.6317, -5.8486, -4.7406, -4.844, -5.1622, -5.2086, -5.5556, -5.6422, -5.7592, -5.8028, -5.8849, -6.0, -6.2119, -6.2557, -6.2858, -6.4616, -6.4627, -6.5833, -6.6645, -6.6886, -6.7603, -6.8081, -6.8532, -6.9281, -6.9694, -7.0371, -7.0381, -7.1395, -7.1407, -7.1795, -7.2202, -7.2523, -5.0292, -4.9288, -4.4963, -4.8389, -6.4328, -6.5204, -5.7434, -6.0817, -5.3833, -6.106, -5.9102, -5.9042, -5.6753, -5.6767, -5.7676, -6.1505, -5.2516, -5.3729, -6.0087, -5.8683, -4.6913, -5.852, -5.6552, -5.8791, -4.9695, -5.9508, -5.906, -5.5567, -5.8801, -5.5883, -5.7987, -5.8487, -5.0135, -6.0096, -6.1272, -6.1269, -6.2345, -6.3796, -6.3847, -6.3955, -6.3961, -6.4165, -6.515, -6.5919, -6.6162, -6.6624, -6.6671, -6.7617, -6.7764, -6.7928, -6.8238, -6.915, -6.9328, -6.9332, -6.9653, -7.0167, -7.021, -7.0248, -7.0471, -7.053, -7.0673, -7.0745, -5.1831, -5.8869, -5.0768, -6.8853, -4.9723, -4.8695, -5.2919, -5.2748, -5.2113, -5.3543, -5.8247, -6.2783, -6.2315, -5.6863, -5.7904, -6.0936, -5.0134, -5.5269, -4.8206, -4.8624, -5.8332, -5.7691, -5.6758, -6.0238, -5.7729, -5.7694, -5.2543, -6.1487, -5.9117, -5.9347, -6.0686, -6.0961, -4.7032, -5.6441, -5.8217, -6.0159, -6.0549, -6.0856, -6.164, -6.1675, -6.2346, -6.3918, -6.5467, -6.5799, -6.6209, -6.6867, -6.713, -6.7612, -6.7652, -6.8114, -6.8124, -6.8186, -6.8209, -6.8276, -6.919, -6.919, -6.5515, -6.9928, -7.0164, -7.0334, -7.0499, -7.0644, -6.5535, -5.1825, -5.9214, -5.5625, -5.9796, -5.4863, -6.399, -6.5321, -6.4697, -6.5837, -6.4117, -6.3841, -6.6521, -6.7329, -4.3635, -4.8915, -5.1159, -5.9362, -6.0452, -6.472, -6.8017, -6.8645, -7.0451, -7.1009, -7.1439, -7.187, -7.1906, -7.2275, -7.2551, -7.3174, -7.3215, -7.4747, -7.492, -7.5137, -7.5161, -7.5504, -7.5709, -7.5878, -7.6128, -7.6151, -7.6248, -7.6802, -7.7673, -7.7981, -5.6513, -6.1005, -6.1517, -6.869, -6.869, -6.9248, -7.1556, -7.216, -7.3657, -7.3885, -7.4406, -7.4615, -7.5162, -7.5399, -7.581, -7.6818, -7.7946, -7.8104, -7.8453, -7.8475, -7.9407, -8.0143, -8.0145, -8.0443, -8.0505, -8.0943, -8.1387, -8.1391, -8.2366, -8.2944, -7.8248, -7.373, -7.3976, -6.5754, -7.2335, -7.8294, -7.9243, -7.9818, -5.4011, -5.481, -5.6261, -6.0542, -7.0397, -7.4345, -7.489, -7.5421, -7.5941, -7.6265, -7.6321, -7.7909, -7.8969, -7.8974, -7.9366, -7.9369, -7.9413, -8.0659, -8.0662, -8.1141, -8.1155, -8.1491, -8.2139, -8.2684, -8.2695, -8.2718, -8.2718, -8.2782, -8.3265, -8.327, -7.434, -5.6823, -8.1285, -6.0689, -6.5657, -6.7147, -7.6724, -7.6212, -7.9278, -8.4829, -8.523, -8.5635, -8.6389, -8.6389, -8.2142, -8.9554, -9.0234, -9.5537, -9.5537, -9.5537, -9.5537, -9.5537, -9.5537, -9.5537, -9.5537, -9.5537, -9.5537, -9.5537, -9.5536, -9.5536, -9.5536, -9.5533, -9.5535, -9.5535, -7.6219, -7.7885, -8.2431, -8.4514, -8.489, -8.5466, -8.55, -8.835, -8.835, -8.835, -8.835, -8.835, -8.835, -8.835, -8.835, -8.8396, -8.8396, -8.8396, -8.8396, -8.8396, -8.8396, -8.8396, -8.8396, -8.8396, -8.8396, -8.8522, -8.8522, -8.8522, -8.8522, -8.9459], \"loglift\": [30.0, 29.0, 28.0, 27.0, 26.0, 25.0, 24.0, 23.0, 22.0, 21.0, 20.0, 19.0, 18.0, 17.0, 16.0, 15.0, 14.0, 13.0, 12.0, 11.0, 10.0, 9.0, 8.0, 7.0, 6.0, 5.0, 4.0, 3.0, 2.0, 1.0, 0.793, 0.7929, 0.7929, 0.7929, 0.7927, 0.7927, 0.7926, 0.7925, 0.7925, 0.7924, 0.7923, 0.7922, 0.7922, 0.7922, 0.7921, 0.7921, 0.792, 0.792, 0.792, 0.792, 0.792, 0.792, 0.7919, 0.7918, 0.7918, 0.7917, 0.7917, 0.7916, 0.7915, 0.7914, 0.7859, 0.7358, 0.7785, 0.7783, 0.774, 0.7264, 0.7297, 0.7189, 0.7249, 0.7292, 0.7756, 0.7131, 0.7565, 0.7067, 0.7498, 0.6345, 0.6761, 0.5937, 0.4668, 0.6408, 0.4159, 0.4017, 0.4461, 0.6258, 0.672, 0.2241, 0.0679, -0.0253, 0.2382, 0.3081, 0.1728, 0.2875, 0.3767, 1.4154, 1.4153, 1.4153, 1.415, 1.4148, 1.4148, 1.4147, 1.4145, 1.4144, 1.4144, 1.4144, 1.4143, 1.4142, 1.4141, 1.4141, 1.414, 1.414, 1.414, 1.414, 1.4139, 1.4138, 1.4138, 1.4135, 1.4135, 1.4134, 1.4134, 1.4133, 1.4132, 1.4132, 1.4131, 1.4039, 1.41, 1.3899, 1.3563, 1.3518, 1.387, 1.3857, 1.3475, 1.3788, 1.3367, 1.3149, 1.3709, 1.3184, 1.28, 1.1415, 1.3161, 1.3691, 1.2425, 0.8236, 1.0109, 1.0805, 0.9347, 1.1633, 0.6807, 0.6325, 0.1912, 0.788, 0.2889, 0.3833, 0.2828, 0.4917, 0.8857, 0.008, -0.13, 0.6214, 1.6537, 1.6537, 1.6535, 1.6535, 1.6532, 1.6531, 1.653, 1.6529, 1.6528, 1.6526, 1.6523, 1.6522, 1.6522, 1.6518, 1.6518, 1.6515, 1.6513, 1.6512, 1.651, 1.6508, 1.6507, 1.6504, 1.6502, 1.65, 1.65, 1.6495, 1.6495, 1.6493, 1.6491, 1.649, 1.6464, 1.5992, 1.5847, 1.586, 1.6301, 1.6314, 1.5922, 1.6031, 1.5573, 1.591, 1.5726, 1.5488, 1.5134, 1.4778, 1.4184, 1.5235, 1.2403, 1.2646, 1.4745, 1.4, 0.6354, 1.3511, 1.1801, 1.3562, 0.3089, 1.4153, 1.3487, 0.4669, 1.2399, -0.0866, 0.7216, 0.5297, 2.3161, 2.314, 2.3136, 2.3136, 2.3132, 2.3126, 2.3125, 2.3125, 2.3125, 2.3124, 2.3119, 2.3115, 2.3113, 2.311, 2.311, 2.3104, 2.3103, 2.3102, 2.3099, 2.3092, 2.3091, 2.3091, 2.3088, 2.3084, 2.3083, 2.3083, 2.3081, 2.3081, 2.3079, 2.3079, 2.3036, 2.2933, 2.2601, 2.3036, 2.1952, 2.1224, 2.1429, 2.1411, 2.0941, 2.0419, 2.0859, 2.1725, 2.138, 1.973, 1.9836, 2.0826, 1.6744, 1.862, 1.461, 1.4148, 1.8874, 1.6554, 1.5421, 1.9008, 1.4778, 1.3459, 0.0724, 1.8799, 0.7903, -0.1017, 1.1482, 0.2823, 4.8759, 4.8561, 4.8499, 4.8418, 4.84, 4.8385, 4.8344, 4.8343, 4.8307, 4.8211, 4.8102, 4.8077, 4.8043, 4.7989, 4.7966, 4.792, 4.7917, 4.7876, 4.7874, 4.7869, 4.7865, 4.7857, 4.7767, 4.7767, 4.7737, 4.7686, 4.7657, 4.7637, 4.7618, 4.7602, 4.4387, 3.4463, 3.9623, 3.3526, 3.561, 2.5382, 3.7078, 3.7123, 2.9809, 3.3446, 2.2536, 1.2721, 1.4391, 2.0888, 5.948, 5.9288, 5.9172, 5.8467, 5.8331, 5.7642, 5.6925, 5.6763, 5.626, 5.6096, 5.5963, 5.5826, 5.5815, 5.5693, 5.5599, 5.5382, 5.5366, 5.4795, 5.4728, 5.4642, 5.4632, 5.4484, 5.4408, 5.4339, 5.4231, 5.4223, 5.4177, 5.3936, 5.3548, 5.3399, 6.0097, 5.9504, 5.942, 5.7815, 5.7815, 5.765, 5.6895, 5.6677, 5.6104, 5.6008, 5.5797, 5.571, 5.5473, 5.5369, 5.5159, 5.4714, 5.4155, 5.4077, 5.3897, 5.3885, 5.3387, 5.2981, 5.2976, 5.2813, 5.2775, 5.2523, 5.2265, 5.2263, 5.1674, 5.1313, 4.9431, 4.5721, 4.5603, 3.7728, 3.1849, 3.3228, 3.2578, 1.0556, 6.2527, 6.2438, 6.2259, 6.1582, 5.8838, 5.7137, 5.6872, 5.6607, 5.634, 5.6171, 5.6141, 5.527, 5.4655, 5.4652, 5.4417, 5.4415, 5.4388, 5.3617, 5.3615, 5.3309, 5.33, 5.3077, 5.2654, 5.2287, 5.228, 5.2263, 5.2263, 5.2219, 5.1888, 5.1885, 4.9126, 3.921, 4.8943, 6.8772, 6.6498, 6.5689, 5.9304, 5.8656, 5.7295, 5.2596, 5.2234, 5.1886, 5.121, 5.121, 4.9136, 4.8333, 4.7696, 4.271, 4.271, 4.271, 4.271, 4.271, 4.271, 4.271, 4.271, 4.271, 4.271, 4.271, 4.2692, 4.2678, 4.2677, 4.2651, 4.2646, 4.2641, 5.9705, 5.8411, 5.4675, 5.2879, 5.2535, 5.2034, 5.2004, 4.9442, 4.9442, 4.9442, 4.9442, 4.9442, 4.9442, 4.9442, 4.9442, 4.94, 4.94, 4.94, 4.94, 4.94, 4.94, 4.94, 4.94, 4.94, 4.94, 4.9284, 4.9284, 4.9284, 4.9284, 4.8425]}, \"token.table\": {\"Topic\": [6, 5, 1, 4, 5, 4, 1, 2, 5, 1, 1, 2, 3, 4, 2, 2, 5, 4, 1, 2, 3, 4, 5, 2, 1, 4, 4, 1, 3, 4, 2, 3, 6, 4, 1, 5, 2, 5, 1, 3, 4, 3, 4, 7, 6, 7, 1, 2, 3, 1, 2, 3, 4, 4, 2, 3, 6, 1, 5, 5, 8, 1, 2, 3, 1, 3, 7, 1, 5, 6, 2, 2, 5, 7, 1, 3, 4, 6, 2, 2, 3, 1, 4, 2, 1, 3, 1, 2, 5, 1, 7, 2, 4, 2, 4, 4, 5, 1, 3, 4, 1, 4, 3, 1, 1, 1, 2, 3, 4, 1, 2, 3, 2, 4, 4, 1, 1, 1, 2, 3, 5, 1, 3, 3, 4, 6, 1, 2, 3, 4, 2, 3, 3, 3, 4, 3, 4, 8, 8, 1, 1, 7, 1, 7, 1, 2, 4, 1, 5, 3, 3, 3, 3, 2, 3, 8, 8, 3, 7, 7, 5, 1, 4, 4, 1, 2, 1, 2, 3, 1, 3, 4, 1, 2, 3, 4, 7, 5, 2, 1, 2, 3, 4, 4, 5, 7, 4, 8, 1, 1, 2, 1, 1, 3, 5, 5, 5, 1, 3, 4, 3, 1, 2, 6, 3, 3, 4, 2, 1, 2, 3, 1, 3, 4, 9, 4, 5, 5, 6, 1, 3, 1, 3, 5, 2, 3, 4, 1, 4, 1, 3, 4, 1, 1, 4, 4, 1, 4, 1, 2, 2, 6, 4, 5, 1, 3, 5, 3, 1, 2, 3, 4, 2, 3, 4, 4, 4, 1, 2, 3, 2, 1, 4, 1, 3, 3, 3, 3, 3, 8, 1, 2, 4, 7, 2, 4, 8, 2, 3, 4, 8, 6, 2, 4, 7, 4, 1, 3, 4, 1, 3, 4, 2, 1, 4, 7, 3, 1, 4, 3, 1, 2, 3, 3, 4, 6, 1, 2, 7, 1, 5, 6, 1, 1, 1, 4, 1, 2, 3, 4, 6, 6, 1, 2, 3, 7, 3, 5, 1, 2, 1, 2, 3, 4, 6, 1, 2, 7, 4, 3, 1, 2, 3, 1, 4, 7, 4, 3, 5, 1, 3, 6, 4, 1, 6, 4, 1, 3, 4, 1, 3, 7, 1, 2, 1, 2, 1, 2, 2, 3, 4, 1, 3, 4, 1, 3, 6, 5, 1, 3, 3, 3, 4, 1, 4, 1, 2, 3, 4, 5, 6, 1, 3, 1, 3, 3, 1, 5, 1, 5, 7, 6, 1, 2, 3, 4, 1, 3, 2, 5, 2, 5, 7, 2, 2, 3, 5, 1, 2, 4, 5, 7, 2, 1, 2, 3, 4, 1, 2, 1, 1, 2, 2, 4, 7, 1, 2, 3, 4, 3, 4, 1, 3, 4, 2, 8, 7, 4, 1, 3, 4, 1, 2, 1, 1, 2, 3, 2, 2, 1, 4, 6, 1, 6, 2, 1, 2, 1, 2, 3, 4, 4, 1, 2, 3, 5, 6, 1, 3, 5, 1, 4, 4, 3, 8, 7, 3, 1, 2, 1, 4, 1, 2, 3, 4, 1, 2, 3, 4, 1, 2, 3, 4, 1, 2, 3, 3, 1, 2, 3, 3, 3, 6, 1, 2, 4, 1, 2, 3, 4, 6, 1, 2, 3, 5, 1, 3, 4, 5, 1, 4, 1, 4, 1, 4, 1, 4, 1, 2, 1, 4, 5, 2, 1, 2, 3, 4, 1, 1, 4, 6, 1, 2, 3, 4, 6, 2, 1, 2, 1, 4, 2, 1, 2, 6, 5, 1, 2, 3, 9, 1, 2, 3, 4, 1, 2, 3, 4, 7, 5, 6, 1, 2, 3, 4, 5, 5, 5], \"Freq\": [0.5904109784564147, 0.98096570074956, 0.28367548670391735, 0.7151818608450874, 0.9163304442155787, 0.9907475544555561, 0.036191376904132586, 0.962087436034858, 0.8797181993263776, 0.9986246829163048, 0.2959476150231553, 0.16573066441296697, 0.10654114140833591, 0.43089972747371413, 0.9975229524020706, 0.9938662877444572, 0.8355345849005473, 0.9977966529858938, 0.5658946432962687, 0.2129312449666455, 0.17545205097831912, 0.04571637948026625, 0.8616635893257736, 0.9959458964892898, 0.15939496767622383, 0.839669919008679, 0.9907035871501944, 0.9631224837636837, 0.035892763370075166, 0.9960875805592186, 1.0000647819337853, 0.9948002957900702, 0.8398879806996159, 0.9988180638775267, 0.7246696170888626, 0.25714083187024156, 0.9997207114634014, 0.8625072358329531, 0.03623862641125377, 0.12321132979826283, 0.8334884074588368, 0.775934862563821, 0.22410541061625888, 0.7921404852695428, 0.5733470204319461, 0.7678888524769392, 0.05062062834940609, 0.9374940370310008, 0.01113653823686934, 0.27887029138168606, 0.016901229780708245, 0.1859135275877907, 0.5154875083116015, 0.9962876737342456, 0.006661037361318487, 0.9924945668364545, 0.9392737022223979, 0.29946525462719514, 0.5989305092543903, 0.9325174464605481, 0.8306947188960668, 0.9987114944516359, 0.0920252422531315, 0.9080981452525995, 0.04750606949329397, 0.9501213898658795, 0.802710714944507, 0.9974990380541475, 0.8929680545435164, 0.6178516485088889, 0.9954678790479606, 0.9961972316848886, 0.9040283134961022, 0.9009599181533655, 0.16156936947542225, 0.07941545279300416, 0.7585544973676603, 0.9359227833506649, 0.9998277079750355, 0.9984606483991139, 0.9998235588934474, 0.33906639518198123, 0.6595538098060456, 1.0002000447729564, 0.059280671920725427, 0.9407584891767297, 0.7956492257616791, 0.17559155327154297, 0.032923416238414306, 0.7766013133139994, 0.25886710443799976, 0.9228737212259944, 0.07482759901832388, 0.970585363540228, 0.027731010386863656, 0.9878656130096348, 0.9061650006881136, 0.5399029897698187, 0.0359336432459114, 0.4249153313829022, 0.8887896639781934, 0.11063771750765893, 1.000051369252912, 0.9967358083062194, 0.9998314254670799, 0.7067542268163574, 0.0304041996925868, 0.1738202359783736, 0.08891794249718782, 0.22724176246112265, 0.11084964022493789, 0.6606638557406298, 0.1619787566809918, 0.8378211552465092, 0.9968471087624733, 0.9991174898738103, 0.9997048963390078, 0.19966837146067226, 0.06417911939807323, 0.7368713708667667, 0.9958008640006503, 0.9564913575203159, 0.04225463828403002, 0.9761406363599122, 0.02133640735212923, 0.5918776518633224, 0.10985813921078462, 0.30897601653033174, 0.27006792555984555, 0.31126472776388975, 0.9951919976063902, 0.9956500847890205, 0.99795863732218, 0.9975237894993665, 0.7604906789014642, 0.12446291945148713, 0.7965626844895177, 0.07467775167089229, 0.9433843088482258, 0.9996292333577911, 0.9981243250477883, 0.636712218850693, 0.9998552650317485, 0.9403189805406097, 0.08363302015978442, 0.12544953023967662, 0.7885399043636816, 0.9986021058917647, 0.928842444957951, 0.9989606755421429, 0.996703702166544, 0.9989790349456996, 0.9990165538899561, 0.9340446222635597, 0.06577779030025069, 0.6763340617620225, 0.8621301946746933, 1.0004496559236178, 0.5241219056443235, 0.5451204612827057, 0.915639677130738, 0.5384326541518656, 0.4605317595086169, 0.9950872670705656, 0.23999942140613215, 0.7598568253706516, 0.027968453870493976, 0.9078990410268045, 0.0645425858549861, 0.5813477240329336, 0.012521335594555493, 0.40515464459525985, 0.3741960465467342, 0.5529254681401424, 0.07113311427965076, 0.001793271788562624, 0.7354202082477684, 0.923373974017503, 0.9963269762905215, 0.026885341956672155, 0.059745204348160344, 0.8364328608742448, 0.07468150543520044, 0.2622005381584967, 0.2622005381584967, 0.2622005381584967, 0.99703513797053, 0.9105326044308383, 0.9990025983242689, 0.6761272320662296, 0.3237540449840941, 0.9991279837245058, 0.16473656758340305, 0.4283150757168479, 0.3953677622001673, 0.8779426461459611, 0.9765571812559504, 0.1865156857503438, 0.7413998508576166, 0.06994338215637892, 0.9990094242209853, 0.8188268964507751, 0.1803073367942111, 0.7756221769199254, 0.9934905922449684, 0.9327673375881284, 0.06688875312885711, 0.9983735842910231, 0.19687525928528715, 0.7766837152023965, 0.0259615726530049, 0.20861620678098772, 0.7900784001492727, 0.9877842696298531, 0.9221630168761282, 0.9960577141406042, 0.8068412821651788, 0.8068412821651788, 0.7281878460482388, 0.8855555695971472, 0.11375429267995875, 0.1235429110363711, 0.5353526144909415, 0.28826679241819925, 0.13128912755395702, 0.8678433855261567, 0.9849747991948644, 0.1336355158603928, 0.8647003967437181, 0.9976819158984999, 0.9794461643090229, 0.02332014676926245, 0.8449092217531515, 0.9807299356119314, 0.017513034564498778, 0.9964155984498594, 0.9971083689946943, 0.9944116858162726, 0.02609021192956893, 0.9740345787039068, 0.9997250072190415, 0.968535222956547, 0.9882103724316987, 0.966521372960761, 0.4133927019249942, 0.3789433100979114, 0.2066963509624971, 0.9995175909627781, 0.2929968176320883, 0.4567112257103283, 0.17995591681616066, 0.07016331774781714, 0.019607556354147546, 0.0936805470253716, 0.8845186533093226, 0.9958386119681931, 0.9967077192559682, 0.07741970655636429, 0.08387134876939464, 0.8387134876939465, 0.9979442158972046, 0.01199063910719456, 0.9862300665667525, 0.9974762388520685, 0.9969981605380985, 0.9916513808708398, 0.9959558513746177, 0.9958782201301942, 0.9944566287310757, 0.933870884811373, 0.8532786920326528, 0.14611578041393397, 0.8912100302548691, 0.10484823885351402, 0.9990294868103639, 0.3867369748550251, 0.3867369748550251, 0.10058547346159148, 0.26369705204795607, 0.6334166301770491, 0.9672321114012296, 0.7271378644583942, 0.05419723604037619, 0.9445803995608423, 0.5241219056443235, 0.9962747958406627, 0.9286728358799496, 0.0706598896865179, 0.0010094269955216843, 0.5953777907914763, 0.39349681575298723, 0.011405704804434412, 0.9988221585986569, 0.9851939218786718, 0.013792714906301405, 0.8664611642067346, 0.9986259479460806, 0.6203393237511612, 0.37840698748820834, 0.9922858603135356, 0.8452391419832707, 0.0598611290356424, 0.09458058387631499, 0.9471240684927181, 0.05287343100808863, 0.7424323952913354, 0.15959936947028824, 0.8408742898956977, 0.7586673908934212, 0.999913854540087, 0.9235510916155761, 0.9246664535118408, 0.9991349169556336, 0.9994339367149573, 0.9166702286920179, 0.0817951896371339, 0.721171192242264, 0.10202162226399322, 0.12822901146942267, 0.047734887481317934, 0.8803843798007721, 0.6450104487508286, 0.6588546075289278, 0.2770184145292083, 0.06363936549995325, 0.7258475562991664, 0.9034076267567933, 0.09752695970669928, 0.005376181914380936, 0.9945936541604733, 0.6857412533084136, 0.24480728701726986, 0.04914869051015934, 0.02059564173759058, 0.5565188235809333, 0.9990550556755554, 1.0000747921394593, 0.6617836592502164, 0.9960897281832588, 0.9981823238176062, 0.06531781925041143, 0.0010367907817525623, 0.9341484943590586, 0.023990967050039218, 0.9776319072890981, 0.9742223757829426, 0.9905329940879449, 0.9986008933202694, 0.8447267736863817, 0.9439763567454458, 0.05564166818311264, 0.7596601428207911, 0.986786349436933, 0.9993228877049858, 0.7176436636277582, 0.9990254546620215, 0.2680130945573956, 0.677085712566052, 0.053859090772299584, 0.3514286339178214, 0.5857143898630357, 0.11714287797260715, 0.381258698210199, 0.6182875663056893, 0.09444898521533132, 0.904011715632457, 0.6028332857053071, 0.39710446598048005, 0.11450714869220355, 0.09160571895376284, 0.7923894689500486, 0.029862557928626663, 0.9227530399945639, 0.04778009268580266, 0.05919119333145405, 0.939660194136833, 0.5350150144527328, 0.9070103537098692, 0.3386602708185241, 0.66069917865209, 1.000130053526981, 0.9979748956469103, 0.988434370735453, 0.20005865659356684, 0.8002346263742673, 0.23755842129823448, 0.02500614961034047, 0.6220279715572192, 0.1140905575971784, 0.8373222015980888, 0.8534049569850809, 0.9826587025055453, 0.016146973984832905, 0.2596240941755936, 0.7382354677862532, 0.9959892367390253, 0.8332498152995502, 0.14955765915632951, 0.999998444687069, 0.5894025951313253, 0.5894025951313253, 0.7705283211782082, 0.4650533246635134, 0.253043720772794, 0.06291897921918123, 0.21748081947499598, 0.21259339080643555, 0.7865955459838115, 0.9959067154731025, 0.8746511650085532, 0.9994387057813484, 0.9598339383943644, 0.9245520936909515, 0.9992606659526911, 0.36269131184219094, 0.4252242966425687, 0.21261214832128436, 0.0845362099821887, 0.6668967676372665, 0.00939291222024319, 0.23482280550607976, 0.9413188147534388, 0.9966648261682856, 0.6156403556000147, 0.01179919509041742, 0.3053909317519803, 0.06801888934475925, 0.042502541289623004, 0.9546724658899935, 0.9976628650008658, 0.03039682026400186, 0.9699349011513321, 0.0562391936855371, 0.8435879052830565, 0.0562391936855371, 0.290830301045405, 0.6672679084469172, 0.0386991932842676, 0.003518108480387964, 0.9013983581274517, 0.0985451581232584, 0.08590565502174796, 0.0913889947039872, 0.8225009523358848, 0.9994318710424169, 0.8866572295168421, 0.9171881367315253, 0.9888318288930028, 0.9356120794108637, 0.0642672834100114, 0.9948338009174384, 0.09628242357882638, 0.9035735135859091, 0.9993531531583941, 0.21278400569533798, 0.7141160191138994, 0.07254000194159249, 0.9987035790618675, 0.999022214211029, 0.4733259966746995, 0.5259177740829994, 0.7717052575549573, 0.9975355371057351, 0.6926779603284802, 0.9960895660811513, 0.010985632890653917, 0.9887069601588525, 0.09470037162701166, 0.0340921337857242, 0.21970486217466703, 0.6515385567938402, 0.9959857296542431, 0.045567506376862334, 0.4670669403628389, 0.42149943398597656, 0.056959382971077915, 0.752119842050768, 0.4725720533599142, 0.2362860266799571, 0.33080043735194, 0.992019860598344, 0.007153989379314981, 0.9841667344073286, 1.0000336442309155, 0.688592694017624, 0.8632187380049025, 0.9893201675453984, 0.12614267223800912, 0.8731694065306346, 0.9992622617127538, 0.9962858475352445, 0.27899270329451925, 0.5332099927829616, 0.12818583664883318, 0.058168362849050345, 0.5739274923923195, 0.32183384284549393, 0.09603567601783833, 0.008002973001486526, 0.3038042923689514, 0.24047049852004945, 0.32458569347562233, 0.1306259498133602, 0.0506167044736819, 0.06869409892856829, 0.8785613705074786, 0.9997276285031855, 0.38966094099441717, 0.5888860837584801, 0.021973361334271645, 0.9991951358719899, 0.999154665078105, 0.9601789434417207, 0.2989366846515418, 0.056694888468395856, 0.644260096231771, 0.33964016363891164, 0.47949199572552237, 0.09507168880764667, 0.08611566015185387, 0.6434275623761516, 0.11365225190803682, 0.22020123807182135, 0.6392939169827071, 0.028413062977009206, 0.652747141440007, 0.2143348822638829, 0.05845496789014988, 0.0681974625385082, 0.9334067833144337, 0.06616554413368138, 0.9378958921855237, 0.06197549948362492, 0.9384348910574192, 0.06089496396201098, 0.9841016153995833, 0.014116211696305498, 0.9987952129816137, 0.9975657571045632, 0.9994205404847775, 0.9991276926169907, 0.9179294844914178, 0.9999672016677379, 0.8586650263333576, 0.056324747376619175, 0.07931444018340252, 0.005747423201695834, 0.9973234410229206, 0.9981740865644317, 0.0018082863887036807, 0.8003259262608132, 0.24403387540175117, 0.4511915207427933, 0.21908819036068328, 0.0856830051410593, 0.7100719241664324, 0.9988187085315666, 0.05762807565118235, 0.9416210096966776, 0.2885650759713299, 0.7089438286209215, 0.9969390382713114, 0.04590236019894535, 0.952473974128116, 0.8965874175543386, 0.9417423262266847, 0.9228247835632786, 0.013391916384163673, 0.06330724108877372, 0.7043551595619294, 0.537647729921538, 0.3557767694295609, 0.10620202072524206, 0.9888426059755181, 0.4839887851792191, 0.048744584793049925, 0.36091735123364627, 0.10578612018917219, 0.8190133334250185, 0.921537648894305, 0.6066692892588847, 0.44108440423282663, 0.2938366606241085, 0.26056591766106485, 0.004611786153293183, 0.9962104480225037, 0.8893337982204467, 0.9961571857696948], \"Term\": [\"'neill\", \"(us)\", \"-mail\", \"-mail\", \"-ordinate\", \"-virus\", \"-year-old\", \"-year-old\", \"absent\", \"access\", \"action\", \"action\", \"action\", \"action\", \"actor\", \"actress\", \"airbus\", \"alleged\", \"also\", \"also\", \"also\", \"also\", \"amicus\", \"andy\", \"anti\", \"anti\", \"anti_-virus\", \"around\", \"around\", \"arrest\", \"arsenal\", \"asylum\", \"atr\", \"attorney\", \"auction\", \"auction\", \"award\", \"baikal\", \"ban\", \"ban\", \"ban\", \"bank\", \"bank\", \"bank_china\", \"bat\", \"bdo\", \"best\", \"best\", \"best\", \"bill\", \"bill\", \"bill\", \"bill\", \"bittorrent\", \"blair\", \"blair\", \"blip\", \"bmw\", \"bmw\", \"boeing\", \"boerse\", \"broadband\", \"brown\", \"brown\", \"budget\", \"budget\", \"cadbury\", \"camera\", \"cannot_afford\", \"cantona\", \"captain\", \"career\", \"carolina\", \"carroll\", \"case\", \"case\", \"case\", \"celtic\", \"champion\", \"championship\", \"chancellor\", \"charge\", \"charge\", \"chelsea\", \"china\", \"china\", \"choice\", \"choice\", \"choice\", \"clause\", \"clause\", \"club\", \"club\", \"coach\", \"coach\", \"commodore\", \"commonwealth\", \"company\", \"company\", \"company\", \"computer\", \"computer\", \"conservative\", \"console\", \"content\", \"could\", \"could\", \"could\", \"could\", \"country\", \"country\", \"country\", \"court\", \"court\", \"criminal\", \"cup\", \"customer\", \"cut\", \"cut\", \"cut\", \"cyprus\", \"data\", \"data\", \"debt\", \"debt\", \"deccan\", \"decision\", \"decision\", \"decision\", \"decision\", \"defeat\", \"dem\", \"democrat\", \"dems\", \"derivative\", \"deutsche\", \"deutsche\", \"deutsche\", \"deutsche_boerse\", \"device\", \"different\", \"digby\", \"digital\", \"donaldson\", \"drug\", \"drug\", \"drug\", \"dvd\", \"early_stage\", \"economic\", \"economist\", \"economy\", \"election\", \"england\", \"england\", \"euronext\", \"expectancy\", \"export\", \"fannie\", \"fannie_mae\", \"faroe\", \"file\", \"file\", \"filed\", \"film\", \"film\", \"final\", \"final\", \"final\", \"firm\", \"firm\", \"firm\", \"first\", \"first\", \"first\", \"first\", \"first_appeared\", \"five_six\", \"football\", \"foreign\", \"foreign\", \"foreign\", \"foreign\", \"foreign_firm\", \"foreign_firm\", \"foreign_firm\", \"fraud\", \"furse\", \"gadget\", \"game\", \"game\", \"gaming\", \"gas\", \"gas\", \"gas\", \"gateshead\", \"gazprom\", \"general\", \"general\", \"general\", \"general_election\", \"get\", \"get\", \"given_backing\", \"gordon_brown\", \"government\", \"government\", \"grand\", \"great\", \"great\", \"great\", \"growth\", \"growth\", \"guilty\", \"guinness\", \"hacker\", \"hansard\", \"hansard_society\", \"hassell\", \"high\", \"high\", \"hong\", \"hong\", \"hong\", \"howard\", \"howard\", \"iaaf\", \"illegal\", \"illegal\", \"image\", \"immigration\", \"immigration\", \"implementation\", \"industry\", \"industry\", \"infected\", \"injury\", \"investigation\", \"ireland\", \"ireland\", \"irish\", \"juninho\", \"kenteris\", \"khodorkovsky\", \"kong\", \"kong\", \"kong\", \"labour\", \"last\", \"last\", \"last\", \"last\", \"law\", \"law\", \"law\", \"lawsuit\", \"lawyer\", \"leader\", \"leader\", \"leader\", \"league\", \"legal\", \"legal\", \"let\", \"lib\", \"lib_dem\", \"lib_dems\", \"liberal\", \"liberal_democrat\", \"life_expectancy\", \"like\", \"like\", \"listing\", \"listing\", \"liverpool\", \"london_stock\", \"london_stock\", \"lord\", \"lord\", \"lord\", \"lse\", \"lvmh\", \"machine\", \"machine\", \"mae\", \"malicious\", \"many\", \"many\", \"many\", \"market\", \"market\", \"market\", \"match\", \"medium\", \"medium\", \"metlife\", \"michael_howard\", \"microsoft\", \"microsoft\", \"milburn\", \"million\", \"million\", \"million\", \"minister\", \"minister\", \"minister_would\", \"minute\", \"minute\", \"mittal\", \"mobile\", \"mock\", \"mourinho\", \"music\", \"net\", \"network\", \"network\", \"new\", \"new\", \"new\", \"new\", \"norway\", \"notified\", \"number\", \"number\", \"number\", \"obliges\", \"oil\", \"oil\", \"olympic\", \"olympic\", \"one\", \"one\", \"one\", \"one\", \"one_another\", \"online\", \"oscar\", \"outweigh\", \"p2p\", \"parliamentary\", \"party\", \"party\", \"party\", \"patent\", \"patent\", \"peel\", \"peer_-to-peer\", \"pension\", \"pension_system\", \"people\", \"people\", \"pernod\", \"phishing\", \"phone\", \"phytopharm\", \"pirated\", \"plan\", \"plan\", \"plan\", \"plastic\", \"plastic\", \"plastic\", \"play\", \"play\", \"played\", \"played\", \"player\", \"player\", \"police\", \"police\", \"police\", \"policy\", \"policy\", \"policy\", \"political\", \"political\", \"positive_result\", \"postal\", \"price\", \"price\", \"prime\", \"prime_minister\", \"printer\", \"program\", \"program\", \"public\", \"public\", \"public\", \"public\", \"putin\", \"quo\", \"radio\", \"radio\", \"rate\", \"rate\", \"reform\", \"republic\", \"republic\", \"research\", \"restate\", \"restate\", \"revealing\", \"right\", \"right\", \"right\", \"right\", \"rise\", \"rise\", \"robinson\", \"rocket\", \"roddick\", \"rosneft\", \"rossignol\", \"rugby\", \"russia\", \"russia\", \"russia\", \"russian\", \"russian\", \"russian\", \"russian\", \"sarbanes\", \"saturday\", \"say\", \"say\", \"say\", \"say\", \"scotland\", \"scotland\", \"search\", \"season\", \"season\", \"sec\", \"sec\", \"sec\", \"second\", \"second\", \"second\", \"second\", \"secretary\", \"secretary\", \"security\", \"security\", \"security\", \"seed\", \"seifert\", \"senior_executive\", \"sentence\", \"service\", \"service\", \"shareholder\", \"side\", \"side\", \"site\", \"six\", \"six\", \"six\", \"six_nation\", \"slam\", \"software\", \"software\", \"solskjaer\", \"sony\", \"sponsorship\", \"squad\", \"star\", \"star\", \"statement\", \"statement\", \"statement\", \"statement\", \"storage\", \"strike\", \"strike\", \"strike\", \"strike\", \"sumitomo\", \"switzerland\", \"switzerland\", \"switzerland\", \"system\", \"system\", \"takeover\", \"tax\", \"tci\", \"teach\", \"teacher\", \"team\", \"team\", \"technology\", \"thanou\", \"three\", \"three\", \"three\", \"three\", \"time\", \"time\", \"time\", \"time\", \"told\", \"told\", \"told\", \"told\", \"tony\", \"tony\", \"tony\", \"tony_blair\", \"top\", \"top\", \"top\", \"tory\", \"tory_leader\", \"tournament\", \"trial\", \"trial\", \"trial\", \"two\", \"two\", \"two\", \"two\", \"ufj\", \"union\", \"union\", \"union\", \"union\", \"unit\", \"unit\", \"unit\", \"unit\", \"use\", \"use\", \"used\", \"used\", \"user\", \"user\", \"using\", \"using\", \"version\", \"victory\", \"video\", \"virus\", \"vladimir\", \"wale\", \"want\", \"want\", \"want\", \"want\", \"web\", \"website\", \"website\", \"wednesday_night\", \"week\", \"week\", \"week\", \"week\", \"widened\", \"williams\", \"win\", \"win\", \"window\", \"window\", \"winner\", \"winning\", \"winning\", \"wmc\", \"wong\", \"work\", \"work\", \"work\", \"workplace\", \"world\", \"world\", \"world\", \"worm\", \"would\", \"would\", \"would\", \"would\", \"would_raise\", \"wto\", \"xstrata\", \"year\", \"year\", \"year\", \"year\", \"yugansk\", \"yuganskneftegas\", \"yukos\"]}, \"R\": 30, \"lambda.step\": 0.01, \"plot.opts\": {\"xlab\": \"PC1\", \"ylab\": \"PC2\"}, \"topic.order\": [5, 6, 3, 9, 2, 4, 1, 8, 7, 10]};\n",
       "\n",
       "function LDAvis_load_lib(url, callback){\n",
       "  var s = document.createElement('script');\n",
       "  s.src = url;\n",
       "  s.async = true;\n",
       "  s.onreadystatechange = s.onload = callback;\n",
       "  s.onerror = function(){console.warn(\"failed to load library \" + url);};\n",
       "  document.getElementsByTagName(\"head\")[0].appendChild(s);\n",
       "}\n",
       "\n",
       "if(typeof(LDAvis) !== \"undefined\"){\n",
       "   // already loaded: just create the visualization\n",
       "   !function(LDAvis){\n",
       "       new LDAvis(\"#\" + \"ldavis_el22392175531415041626591687\", ldavis_el22392175531415041626591687_data);\n",
       "   }(LDAvis);\n",
       "}else if(typeof define === \"function\" && define.amd){\n",
       "   // require.js is available: use it to load d3/LDAvis\n",
       "   require.config({paths: {d3: \"https://d3js.org/d3.v5\"}});\n",
       "   require([\"d3\"], function(d3){\n",
       "      window.d3 = d3;\n",
       "      LDAvis_load_lib(\"https://cdn.jsdelivr.net/gh/bmabey/pyLDAvis@3.3.1/pyLDAvis/js/ldavis.v3.0.0.js\", function(){\n",
       "        new LDAvis(\"#\" + \"ldavis_el22392175531415041626591687\", ldavis_el22392175531415041626591687_data);\n",
       "      });\n",
       "    });\n",
       "}else{\n",
       "    // require.js not available: dynamically load d3 & LDAvis\n",
       "    LDAvis_load_lib(\"https://d3js.org/d3.v5.js\", function(){\n",
       "         LDAvis_load_lib(\"https://cdn.jsdelivr.net/gh/bmabey/pyLDAvis@3.3.1/pyLDAvis/js/ldavis.v3.0.0.js\", function(){\n",
       "                 new LDAvis(\"#\" + \"ldavis_el22392175531415041626591687\", ldavis_el22392175531415041626591687_data);\n",
       "            })\n",
       "         });\n",
       "}\n",
       "</script>"
      ],
      "text/plain": [
       "<IPython.core.display.HTML object>"
      ]
     },
     "execution_count": 141,
     "metadata": {},
     "output_type": "execute_result"
    }
   ],
   "source": [
    "LDAvis_prepared = pyLDAvis.gensim_models.prepare(model_test, corpus,loaded_dct)\n",
    "pyLDAvis.display(LDAvis_prepared)"
   ]
  },
  {
   "cell_type": "code",
   "execution_count": 142,
   "id": "f02262e6",
   "metadata": {},
   "outputs": [],
   "source": [
    "pyLDAvis.save_html(LDAvis_prepared, 'pyLDAvis.html')"
   ]
  },
  {
   "cell_type": "code",
   "execution_count": null,
   "id": "79af602a",
   "metadata": {},
   "outputs": [],
   "source": []
  },
  {
   "cell_type": "code",
   "execution_count": 91,
   "id": "92943c9f",
   "metadata": {},
   "outputs": [],
   "source": [
    "txt = Path('.\\\\testcase\\\\003-busi.txt').read_text()"
   ]
  },
  {
   "cell_type": "code",
   "execution_count": 93,
   "id": "21d5e570",
   "metadata": {},
   "outputs": [
    {
     "data": {
      "text/plain": [
       "'Yukos unit buyer faces loan claimThe owners of embattled Russian oil giant Yukos are to ask the buyer of its former production unit to pay back a $900m (Â£479m) loan.State-owned Rosneft bought the Yugansk unit for $9.3bn in a sale forced by Russia to part settle a $27.5bn tax claim against Yukos. Yukos\\' owner Menatep Group says it will ask Rosneft to repay a loan that Yugansk had secured on its assets. Rosneft already faces a similar $540m repayment demand from foreign banks. Legal experts said Rosneft\\'s purchase of Yugansk would include such obligations. \"The pledged assets are with Rosneft, so it will have to pay real money to the creditors to avoid seizure of Yugansk assets,\" said Moscow-based US lawyer Jamie Firestone, who is not connected to the case. Menatep Group\\'s managing director Tim Osborne told the Reuters news agency: \"If they default, we will fight them where the rule of law exists under the international arbitration clauses of the credit.\"Rosneft officials were unavailable for comment. But the company has said it intends to take action against Menatep to recover some of the tax claims and debts owed by Yugansk. Yukos had filed for bankruptcy protection in a US court in an attempt to prevent the forced sale of its main production arm. The sale went ahead in December and Yugansk was sold to a little-known shell company which in turn was bought by Rosneft. Yukos claims its downfall was punishment for the political ambitions of its founder Mikhail Khodorkovsky and has vowed to sue any participant in the sale.'"
      ]
     },
     "execution_count": 93,
     "metadata": {},
     "output_type": "execute_result"
    }
   ],
   "source": [
    "txt = txt.replace('\\n','')\n",
    "txt"
   ]
  },
  {
   "cell_type": "code",
   "execution_count": 94,
   "id": "f0afeb14",
   "metadata": {},
   "outputs": [
    {
     "data": {
      "text/plain": [
       "'.\\\\testcase\\\\lalith.txt'"
      ]
     },
     "execution_count": 94,
     "metadata": {},
     "output_type": "execute_result"
    }
   ],
   "source": [
    "selected_filename = 'lalith.txt'\n",
    "a = '.\\\\testcase\\\\' + selected_filename\n",
    "a"
   ]
  },
  {
   "cell_type": "code",
   "execution_count": null,
   "id": "a09d1ce0",
   "metadata": {},
   "outputs": [],
   "source": []
  }
 ],
 "metadata": {
  "kernelspec": {
   "display_name": "topic_modelling",
   "language": "python",
   "name": "topic_modelling"
  },
  "language_info": {
   "codemirror_mode": {
    "name": "ipython",
    "version": 3
   },
   "file_extension": ".py",
   "mimetype": "text/x-python",
   "name": "python",
   "nbconvert_exporter": "python",
   "pygments_lexer": "ipython3",
   "version": "3.8.12"
  }
 },
 "nbformat": 4,
 "nbformat_minor": 5
}
